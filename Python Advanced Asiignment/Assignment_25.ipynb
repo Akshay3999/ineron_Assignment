{
 "cells": [
  {
   "cell_type": "markdown",
   "id": "208999d1",
   "metadata": {},
   "source": [
    "# Q1. What is the distinction between a numpy array and a pandas data frame? Is there a way to convert between the two if there is?"
   ]
  },
  {
   "cell_type": "markdown",
   "id": "37b85223",
   "metadata": {},
   "source": [
    "Ans: Numpy Ndarray provides a lot of convenient and optimized methods for performing several mathematical operations on vectors.\n",
    "\n",
    "Pandas Dataframe is an in-memory 2-dimensional tabular representation of data. In simpler words, it can be seen as a spreadsheet having rows and columns.\n",
    "\n",
    "Conversion : Dataframe=pandas.DataFrame(array)"
   ]
  },
  {
   "cell_type": "markdown",
   "id": "adbe18de",
   "metadata": {},
   "source": [
    "# Q2. What can go wrong when an user enters in a stock-ticker symbol, and how do you handle it?"
   ]
  },
  {
   "cell_type": "markdown",
   "id": "6a82480e",
   "metadata": {},
   "source": [
    "Ans: Bar chart, Line Chart are used for plotting."
   ]
  },
  {
   "cell_type": "markdown",
   "id": "0d4a1f1d",
   "metadata": {},
   "source": [
    "# Q3. Identify some of the plotting techniques that are used to produce a stock-market chart."
   ]
  },
  {
   "cell_type": "markdown",
   "id": "4e95bedf",
   "metadata": {},
   "source": [
    "Ans: Legend will help comparison between different stocks, so will be essential on a stock market chart"
   ]
  },
  {
   "cell_type": "markdown",
   "id": "f87c30e8",
   "metadata": {},
   "source": [
    "# Q4. Why is it essential to print a legend on a stock market chart?"
   ]
  },
  {
   "cell_type": "markdown",
   "id": "d4244cdf",
   "metadata": {},
   "source": [
    "Ans: : We can use start and end parameters for that. In start we write the date from where we are starting and at the end we write the end date. SO within this span we can restric the duration.Also we can use the parameters like periods for how much times we need the duration and we can also use the frequency parameter."
   ]
  },
  {
   "cell_type": "markdown",
   "id": "2052afd3",
   "metadata": {},
   "source": [
    "# Q5. What is the best way to limit the length of a pandas data frame to less than a year?"
   ]
  },
  {
   "cell_type": "markdown",
   "id": "b6711adb",
   "metadata": {},
   "source": [
    "Ans: : The 180-day moving average is represented as a line on charts and represents the average price over the past 180 days. The moving average can give traders a sense regarding whether the trend is up or down, while also identifying potential support or resistance areas."
   ]
  },
  {
   "cell_type": "markdown",
   "id": "d2f0521d",
   "metadata": {},
   "source": [
    "# Q6. What is the definition of a 180-day moving average?"
   ]
  },
  {
   "cell_type": "markdown",
   "id": "811bf741",
   "metadata": {},
   "source": [
    "Ans: : The 180-day moving average is represented as a line on charts and represents the average price over the past 180 days. The moving average can give traders a sense regarding whether the trend is up or down, while also identifying potential support or resistance areas."
   ]
  },
  {
   "cell_type": "markdown",
   "id": "944dd17a",
   "metadata": {},
   "source": [
    "# Q7. Did the chapter&#39;s final example use &quot;indirect&quot; importing? If so, how exactly do you do it?"
   ]
  }
 ],
 "metadata": {
  "kernelspec": {
   "display_name": "Python 3 (ipykernel)",
   "language": "python",
   "name": "python3"
  },
  "language_info": {
   "codemirror_mode": {
    "name": "ipython",
    "version": 3
   },
   "file_extension": ".py",
   "mimetype": "text/x-python",
   "name": "python",
   "nbconvert_exporter": "python",
   "pygments_lexer": "ipython3",
   "version": "3.8.8"
  }
 },
 "nbformat": 4,
 "nbformat_minor": 5
}
