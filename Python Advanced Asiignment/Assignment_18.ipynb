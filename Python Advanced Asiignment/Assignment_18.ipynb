{
 "cells": [
  {
   "cell_type": "markdown",
   "id": "bf3bcc76",
   "metadata": {},
   "source": [
    "# Q1. Describe the differences between text and binary files in a single paragraph."
   ]
  },
  {
   "cell_type": "markdown",
   "id": "c1c59fa9",
   "metadata": {},
   "source": [
    "Ans: The differences between Text Files and Binary Files are:\n",
    "\n",
    "Text files are special subset of binary files that are used to store human readable characters as a rich text document or plain text document. Text files also store data in sequential bytes but bits in text file represents characters.\n",
    "\n",
    "Binary files are those typical files that store data in the form of sequence of bytes grouped into eight bits or sometimes sixteen bits. These bits represent custom data and such files can store multiple types of data (images, audio, text, etc) under a single file."
   ]
  },
  {
   "cell_type": "markdown",
   "id": "121d5a66",
   "metadata": {},
   "source": [
    "# Q2. What are some scenarios where using text files will be the better option? When would you like to use binary files instead of text files?"
   ]
  },
  {
   "cell_type": "markdown",
   "id": "66e66e1a",
   "metadata": {},
   "source": [
    "Ans: Text files are less prone to get corrupted as any undesired change may just show up once the file is opened and then can easily be removed. Whereas Use binary files instead of text files for image data."
   ]
  },
  {
   "cell_type": "markdown",
   "id": "2870342c",
   "metadata": {},
   "source": [
    "# Q3. What are some of the issues with using binary operations to read and write a Python integer directly to disc?"
   ]
  },
  {
   "cell_type": "markdown",
   "id": "dca40929",
   "metadata": {},
   "source": [
    "Ans: When we read or write a python integer using binary operations\n",
    "\n",
    "    Binary operations deal with raw data\n",
    "    One needs to identify how many bytes one would read or write."
   ]
  },
  {
   "cell_type": "markdown",
   "id": "9c7c34f6",
   "metadata": {},
   "source": [
    "# Q4. Describe a benefit of using the with keyword instead of explicitly opening a file."
   ]
  },
  {
   "cell_type": "markdown",
   "id": "688d1550",
   "metadata": {},
   "source": [
    "Ans: When a file is opened using the with keyword, if some exceptions occur after opening a file, or at the end of the file it automatically does the closing of the file. There by not leaving an file in open mode and there would no need to explicitly close a file."
   ]
  },
  {
   "cell_type": "markdown",
   "id": "3308ed47",
   "metadata": {},
   "source": [
    "# Q5. Does Python have the trailing newline while reading a line of text? Does Python append a newline when you write a line of text?"
   ]
  },
  {
   "cell_type": "markdown",
   "id": "0c0c6942",
   "metadata": {},
   "source": [
    "Ans: Yes, Python have the trailing newline while reading a line of text. When we write a newline has to be provided in python excpicitly."
   ]
  },
  {
   "cell_type": "markdown",
   "id": "f30e5129",
   "metadata": {},
   "source": [
    "# Q6. What file operations enable for random-access operation?"
   ]
  },
  {
   "cell_type": "markdown",
   "id": "c33c216d",
   "metadata": {},
   "source": [
    "Ans: The file operations enable for random-access operation are seek() and tell()"
   ]
  },
  {
   "cell_type": "markdown",
   "id": "b3e95d32",
   "metadata": {},
   "source": [
    "# Q7. When do you think you&#39;ll use the struct package the most?"
   ]
  },
  {
   "cell_type": "markdown",
   "id": "7ea07839",
   "metadata": {},
   "source": [
    "Ans: The struct package is mostly used while converting a common python types into C language types."
   ]
  },
  {
   "cell_type": "markdown",
   "id": "ce7ab42f",
   "metadata": {},
   "source": [
    "# Q8. When is pickling the best option?"
   ]
  },
  {
   "cell_type": "markdown",
   "id": "c00ff7c6",
   "metadata": {},
   "source": [
    "Ans: Pickling is best option for creating a new binary file using python."
   ]
  },
  {
   "cell_type": "markdown",
   "id": "403ad75c",
   "metadata": {},
   "source": [
    "# Q9. When will it be best to use the shelve package?"
   ]
  },
  {
   "cell_type": "markdown",
   "id": "487f7283",
   "metadata": {},
   "source": [
    "Ans: Shelve package is used to pickle data but treats the entire file as dictionary."
   ]
  },
  {
   "cell_type": "markdown",
   "id": "f13d3d56",
   "metadata": {},
   "source": [
    "# Q10. What is a special restriction when using the shelve package, as opposed to using other data dictionaries?"
   ]
  },
  {
   "cell_type": "markdown",
   "id": "2ddd9930",
   "metadata": {},
   "source": [
    "Ans: Only string data type can be used as key in this special dictionary object, whereas any picklable Python object can be used as value."
   ]
  }
 ],
 "metadata": {
  "kernelspec": {
   "display_name": "Python 3 (ipykernel)",
   "language": "python",
   "name": "python3"
  },
  "language_info": {
   "codemirror_mode": {
    "name": "ipython",
    "version": 3
   },
   "file_extension": ".py",
   "mimetype": "text/x-python",
   "name": "python",
   "nbconvert_exporter": "python",
   "pygments_lexer": "ipython3",
   "version": "3.8.8"
  }
 },
 "nbformat": 4,
 "nbformat_minor": 5
}
