{
 "cells": [
  {
   "cell_type": "markdown",
   "id": "d89725d0",
   "metadata": {},
   "source": [
    "Q1. Assign the value 7 to the variable guess_me. Then, write the conditional tests (if, else, and elif) to\n",
    "print the string &#39;too low&#39; if guess_me is less than 7, &#39;too high&#39; if greater than 7, and &#39;just right&#39; if equal\n",
    "to 7."
   ]
  },
  {
   "cell_type": "code",
   "execution_count": 3,
   "id": "a2ac7923",
   "metadata": {},
   "outputs": [
    {
     "name": "stdout",
     "output_type": "stream",
     "text": [
      "--------------------------\n",
      "Start of section 4.1\n",
      "just right\n",
      "End of section 4.1\n"
     ]
    }
   ],
   "source": [
    "def print_header(section: str):\n",
    "    print('--------------------------')\n",
    "    print('Start of section ' + section)\n",
    "    \n",
    "def print_footer(section: str):\n",
    "    print('End of section ' + section)\n",
    "\n",
    "section = '4.1'\n",
    "print_header(section)\n",
    "guess_me = 7\n",
    "if guess_me < 7:\n",
    "    print(\"too low\")\n",
    "elif guess_me > 7:\n",
    "    print(\"too high\")\n",
    "else:\n",
    "    print(\"just right\")\n",
    "print_footer(section)"
   ]
  },
  {
   "cell_type": "markdown",
   "id": "2db6dab1",
   "metadata": {},
   "source": [
    "Q2. Assign the value 7 to the variable guess_me and the value 1 to the variable start. Write a while\n",
    "loop that compares start with guess_me. Print too low if start is less than guess me. If start equals\n",
    "guess_me, print &#39;found it!&#39; and exit the loop. If start is greater than guess_me, print &#39;oops&#39; and exit\n",
    "the loop. Increment start at the end of the loop."
   ]
  },
  {
   "cell_type": "code",
   "execution_count": 4,
   "id": "82668dc2",
   "metadata": {},
   "outputs": [
    {
     "name": "stdout",
     "output_type": "stream",
     "text": [
      "--------------------------\n",
      "Start of section 4.2\n",
      "too low\n",
      "too low\n",
      "too low\n",
      "too low\n",
      "too low\n",
      "too low\n",
      "found it!\n",
      "End of section 4.2\n"
     ]
    }
   ],
   "source": [
    "def print_header(section: str):\n",
    "    print('--------------------------')\n",
    "    print('Start of section ' + section)\n",
    "    \n",
    "def print_footer(section: str):\n",
    "    print('End of section ' + section)\n",
    "\n",
    "section = '4.2'\n",
    "print_header(section)\n",
    "guess_me = 7\n",
    "start = 1\n",
    "\n",
    "while True:\n",
    "    if start < guess_me:\n",
    "        print('too low')\n",
    "    elif start == guess_me:\n",
    "        print('found it!')\n",
    "        break\n",
    "    else:\n",
    "        print('oops')\n",
    "        break\n",
    "    start += 1\n",
    "print_footer(section)"
   ]
  },
  {
   "cell_type": "markdown",
   "id": "df4b5705",
   "metadata": {},
   "source": [
    "Q3. Print the following values of the list [3, 2, 1, 0] using a for loop."
   ]
  },
  {
   "cell_type": "code",
   "execution_count": 5,
   "id": "bb1e2a66",
   "metadata": {},
   "outputs": [
    {
     "name": "stdout",
     "output_type": "stream",
     "text": [
      "--------------------------\n",
      "Start of section 4.3\n",
      "3\n",
      "2\n",
      "1\n",
      "0\n",
      "End of section 4.3\n"
     ]
    }
   ],
   "source": [
    "def print_header(section: str):\n",
    "    print('--------------------------')\n",
    "    print('Start of section ' + section)\n",
    "    \n",
    "def print_footer(section: str):\n",
    "    print('End of section ' + section)\n",
    "\n",
    "section = '4.3'\n",
    "print_header(section)\n",
    "numbers = [3, 2, 1, 0]\n",
    "for num in numbers:\n",
    "    print(num)\n",
    "print_footer(section)"
   ]
  },
  {
   "cell_type": "markdown",
   "id": "96ce31ff",
   "metadata": {},
   "source": [
    "Q4. Use a list comprehension to make a list of the even numbers in range(10)"
   ]
  },
  {
   "cell_type": "code",
   "execution_count": 6,
   "id": "6da05561",
   "metadata": {},
   "outputs": [
    {
     "name": "stdout",
     "output_type": "stream",
     "text": [
      "--------------------------\n",
      "Start of section 4.4\n",
      "[0, 2, 4, 6, 8]\n",
      "End of section 4.4\n"
     ]
    }
   ],
   "source": [
    "def print_header(section: str):\n",
    "    print('--------------------------')\n",
    "    print('Start of section ' + section)\n",
    "    \n",
    "def print_footer(section: str):\n",
    "    print('End of section ' + section)\n",
    "    \n",
    "section = '4.4'\n",
    "print_header(section)\n",
    "even_numbers = [num for num in range(10) if num % 2 == 0]\n",
    "print(even_numbers)\n",
    "print_footer(section)"
   ]
  },
  {
   "cell_type": "markdown",
   "id": "938880c8",
   "metadata": {},
   "source": [
    "Q5. Use a dictionary comprehension to create the dictionary squares. Use range(10) to return the\n",
    "keys, and use the square of each key as its value."
   ]
  },
  {
   "cell_type": "code",
   "execution_count": 7,
   "id": "c9bd872c",
   "metadata": {},
   "outputs": [
    {
     "name": "stdout",
     "output_type": "stream",
     "text": [
      "--------------------------\n",
      "Start of section 4.5\n",
      "{0: 0, 1: 1, 2: 4, 3: 9, 4: 16, 5: 25, 6: 36, 7: 49, 8: 64, 9: 81}\n",
      "End of section 4.5\n"
     ]
    }
   ],
   "source": [
    "def print_header(section: str):\n",
    "    print('--------------------------')\n",
    "    print('Start of section ' + section)\n",
    "    \n",
    "def print_footer(section: str):\n",
    "    print('End of section ' + section)\n",
    "    \n",
    "section = '4.5'\n",
    "print_header(section)\n",
    "limit = 10\n",
    "squares = {num: num * num for num in range(limit)}\n",
    "print(squares)\n",
    "print_footer(section)"
   ]
  },
  {
   "cell_type": "markdown",
   "id": "46432e58",
   "metadata": {},
   "source": [
    "Q6. Construct the set odd from the odd numbers in the range using a set comprehension (10)."
   ]
  },
  {
   "cell_type": "code",
   "execution_count": 8,
   "id": "753ecb2c",
   "metadata": {},
   "outputs": [
    {
     "name": "stdout",
     "output_type": "stream",
     "text": [
      "--------------------------\n",
      "Start of section 4.6\n",
      "{1, 3, 5, 7, 9}\n",
      "End of section 4.6\n"
     ]
    }
   ],
   "source": [
    "def print_header(section: str):\n",
    "    print('--------------------------')\n",
    "    print('Start of section ' + section)\n",
    "    \n",
    "def print_footer(section: str):\n",
    "    print('End of section ' + section)\n",
    "    \n",
    "section = '4.6'\n",
    "print_header(section)\n",
    "limit = 10\n",
    "odd = {num for num in range(limit) if num % 2 == 1}\n",
    "print(odd)\n",
    "print_footer(section)"
   ]
  },
  {
   "cell_type": "markdown",
   "id": "dd087f50",
   "metadata": {},
   "source": [
    "Q7. Use a generator comprehension to return the string &#39;Got &#39; and a number for the numbers in\n",
    "range(10). Iterate through this by using a for loop."
   ]
  },
  {
   "cell_type": "code",
   "execution_count": 9,
   "id": "cc892f4c",
   "metadata": {},
   "outputs": [
    {
     "name": "stdout",
     "output_type": "stream",
     "text": [
      "--------------------------\n",
      "Start of section 4.7\n",
      "Got 0\n",
      "Got 1\n",
      "Got 2\n",
      "Got 3\n",
      "Got 4\n",
      "Got 5\n",
      "Got 6\n",
      "Got 7\n",
      "Got 8\n",
      "Got 9\n",
      "End of section 4.7\n"
     ]
    }
   ],
   "source": [
    "def print_header(section: str):\n",
    "    print('--------------------------')\n",
    "    print('Start of section ' + section)\n",
    "    \n",
    "def print_footer(section: str):\n",
    "    print('End of section ' + section)\n",
    "    \n",
    "section = '4.7'\n",
    "print_header(section)\n",
    "limit = 10\n",
    "string_generator = ('Got ' + str(num) for num in range(limit))\n",
    "for item in string_generator:\n",
    "    print(item)\n",
    "print_footer(section)"
   ]
  },
  {
   "cell_type": "markdown",
   "id": "0e392fe2",
   "metadata": {},
   "source": [
    "Q8. Define a function called good that returns the list [&#39;Harry&#39;, &#39;Ron&#39;, &#39;Hermione&#39;]."
   ]
  },
  {
   "cell_type": "code",
   "execution_count": 10,
   "id": "c77f39be",
   "metadata": {},
   "outputs": [
    {
     "name": "stdout",
     "output_type": "stream",
     "text": [
      "--------------------------\n",
      "Start of section 4.8\n",
      "['Harry', 'Ron', 'Hermione']\n",
      "End of section 4.8\n"
     ]
    }
   ],
   "source": [
    "def print_header(section: str):\n",
    "    print('--------------------------')\n",
    "    print('Start of section ' + section)\n",
    "    \n",
    "def print_footer(section: str):\n",
    "    print('End of section ' + section)\n",
    "    \n",
    "section = '4.8'\n",
    "print_header(section)\n",
    "\n",
    "\n",
    "def good():\n",
    "    return ['Harry', 'Ron', 'Hermione']\n",
    "\n",
    "\n",
    "print(good())\n",
    "print_footer(section)"
   ]
  },
  {
   "cell_type": "markdown",
   "id": "e4b356f9",
   "metadata": {},
   "source": [
    "Q9. Define a generator function called get_odds that returns the odd numbers from range(10). Use a\n",
    "for loop to find and print the third value returned."
   ]
  },
  {
   "cell_type": "code",
   "execution_count": 11,
   "id": "34d937f5",
   "metadata": {},
   "outputs": [
    {
     "name": "stdout",
     "output_type": "stream",
     "text": [
      "--------------------------\n",
      "Start of section 4.9\n",
      "5\n",
      "End of section 4.9\n"
     ]
    }
   ],
   "source": [
    "def print_header(section: str):\n",
    "    print('--------------------------')\n",
    "    print('Start of section ' + section)\n",
    "    \n",
    "def print_footer(section: str):\n",
    "    print('End of section ' + section)\n",
    "    \n",
    "section = '4.9'\n",
    "print_header(section)\n",
    "limit = 10\n",
    "get_odds = (num for num in range(limit) if not num % 2 == 0)\n",
    "count = 0\n",
    "for num in get_odds:\n",
    "    if count == 2:\n",
    "        print(num)\n",
    "        break\n",
    "    count += 1\n",
    "print_footer(section)"
   ]
  },
  {
   "cell_type": "markdown",
   "id": "418ef5a7",
   "metadata": {},
   "source": [
    "Q10. Define an exception called OopsException. Raise this exception to see what happens. Then write\n",
    "the code to catch this exception and print &#39;Caught an oops&#39;."
   ]
  },
  {
   "cell_type": "code",
   "execution_count": 12,
   "id": "534aae64",
   "metadata": {},
   "outputs": [
    {
     "name": "stdout",
     "output_type": "stream",
     "text": [
      "--------------------------\n",
      "Start of section 4.11\n",
      "Caught an oops\n",
      "End of section 4.11\n"
     ]
    }
   ],
   "source": [
    "def print_header(section: str):\n",
    "    print('--------------------------')\n",
    "    print('Start of section ' + section)\n",
    "    \n",
    "def print_footer(section: str):\n",
    "    print('End of section ' + section)\n",
    "    \n",
    "section = '4.11'\n",
    "print_header(section)\n",
    "\n",
    "\n",
    "class OopsException(Exception):\n",
    "    pass\n",
    "\n",
    "\n",
    "def with_exception(a):\n",
    "    if a < 0:\n",
    "        raise OopsException(a)\n",
    "\n",
    "\n",
    "try:\n",
    "    with_exception(-1)\n",
    "except OopsException as err:\n",
    "    print('Caught an oops')\n",
    "\n",
    "print_footer(section)"
   ]
  },
  {
   "cell_type": "markdown",
   "id": "1012bbb6",
   "metadata": {},
   "source": [
    "Q11. Use zip() to make a dictionary called movies that pairs these lists: titles = [&#39;Creature of Habit&#39;,\n",
    "&#39;Crewel Fate&#39;] and plots = [&#39;A nun turns into a monster&#39;, &#39;A haunted yarn shop&#39;]."
   ]
  },
  {
   "cell_type": "code",
   "execution_count": 13,
   "id": "f86cd625",
   "metadata": {},
   "outputs": [
    {
     "name": "stdout",
     "output_type": "stream",
     "text": [
      "--------------------------\n",
      "Start of section 4.12\n",
      "{'Creature of Habit': 'A nun turns into a monster', 'Crewel Fate': 'A haunted yarn shop'}\n",
      "End of section 4.12\n"
     ]
    }
   ],
   "source": [
    "def print_header(section: str):\n",
    "    print('--------------------------')\n",
    "    print('Start of section ' + section)\n",
    "    \n",
    "def print_footer(section: str):\n",
    "    print('End of section ' + section)\n",
    "\n",
    "section = '4.12'\n",
    "print_header(section)\n",
    "\n",
    "titles = ['Creature of Habit', 'Crewel Fate']\n",
    "plots = ['A nun turns into a monster', 'A haunted yarn shop']\n",
    "\n",
    "movies = {}\n",
    "for title, plot in zip(titles, plots):\n",
    "    movies[title] = plot\n",
    "# or movies = dict(zip(titles, plots))\n",
    "print(movies)\n",
    "print_footer(section)"
   ]
  }
 ],
 "metadata": {
  "kernelspec": {
   "display_name": "Python 3 (ipykernel)",
   "language": "python",
   "name": "python3"
  },
  "language_info": {
   "codemirror_mode": {
    "name": "ipython",
    "version": 3
   },
   "file_extension": ".py",
   "mimetype": "text/x-python",
   "name": "python",
   "nbconvert_exporter": "python",
   "pygments_lexer": "ipython3",
   "version": "3.8.8"
  }
 },
 "nbformat": 4,
 "nbformat_minor": 5
}
