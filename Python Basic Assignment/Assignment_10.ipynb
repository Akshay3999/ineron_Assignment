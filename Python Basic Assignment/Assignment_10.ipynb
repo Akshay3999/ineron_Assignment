{
 "cells": [
  {
   "cell_type": "markdown",
   "id": "5954813c",
   "metadata": {},
   "source": [
    "Q1. How do you distinguish between shutil.copy() and shutil.copytree()?\n",
    "\n",
    "Ans:- The shutil.copy() function will copy a single file, while shutil.copytree() will copy an entire folder, along with all its contents."
   ]
  },
  {
   "cell_type": "markdown",
   "id": "85f8d750",
   "metadata": {},
   "source": [
    "Q2. What function is used to rename files??\n",
    "\n",
    "Ans:- The shutil.move() function is used for renaming files, as well as moving them"
   ]
  },
  {
   "cell_type": "markdown",
   "id": "9a847b4d",
   "metadata": {},
   "source": [
    "Q3. What is the difference between the delete functions in the send2trash and shutil modules?\n",
    "\n",
    "Ans:- he send2trash functions will move a file or folder to the recycle bin, while shutil functions will permanently delete files and folders."
   ]
  },
  {
   "cell_type": "markdown",
   "id": "1dbaa27a",
   "metadata": {},
   "source": [
    "Q4.ZipFile objects have a close() method just like File objects’ close() method. What ZipFile method is\n",
    "equivalent to File objects’ open() method?\n",
    "\n",
    "Ans:- The zipfile.ZipFile() function is equivalent to the open() function; the first argument is the filename, and the second argument is the mode to open the ZIP file in (read, write, or append)."
   ]
  },
  {
   "cell_type": "markdown",
   "id": "1fc89fe5",
   "metadata": {},
   "source": [
    "Q5. Create a programme that searches a folder tree for files with a certain file extension (such as .pdf\n",
    "or .jpg). Copy these files from whatever location they are in to a new folder.\n",
    "\n",
    "Ans:- "
   ]
  },
  {
   "cell_type": "markdown",
   "id": "b62e80cf",
   "metadata": {},
   "source": [
    "import os, shutil\n",
    "\n",
    "sourcePath = input(\"Enter the absolute path of the source folder: \")<br>\n",
    "fileExtType = input(\"Enter the type of file to copy (such as .pdf or .jpg): \").lower()<br>\n",
    "destPath = input(\"Enter the absolute path of the destination folder: \")<br>\n",
    "\n",
    "for foldername, subfolders, filenames in os.walk(sourcePath):<br>\n",
    "for filename in filenames:<br>\n",
    "if filename.lower().endswith(fileExtType):<br>\n",
    "#print(foldername + ‘\\\\’ + filename)<br>\n",
    "copySourcePath = os.path.join(foldername, filename)<br>\n",
    "#print(copySourcePath) shutil.copy(copySourcePath, destPath)<br>\n",
    "else:<br>\n",
    "continue<br>"
   ]
  }
 ],
 "metadata": {
  "kernelspec": {
   "display_name": "Python 3 (ipykernel)",
   "language": "python",
   "name": "python3"
  },
  "language_info": {
   "codemirror_mode": {
    "name": "ipython",
    "version": 3
   },
   "file_extension": ".py",
   "mimetype": "text/x-python",
   "name": "python",
   "nbconvert_exporter": "python",
   "pygments_lexer": "ipython3",
   "version": "3.8.8"
  }
 },
 "nbformat": 4,
 "nbformat_minor": 5
}
