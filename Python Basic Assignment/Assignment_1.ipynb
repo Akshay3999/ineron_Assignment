{
 "cells": [
  {
   "cell_type": "markdown",
   "id": "c6e71cf8",
   "metadata": {},
   "source": [
    "Q1. In the below elements which of them are values or an expression? eg:- values can be integer or string and expressions will be mathematical operators.\n",
    "\n",
    "Ans:- 1) * = operator\n",
    "    2)'hello' = value\n",
    "    3)-87.8 = value\n",
    "    4) - = operator\n",
    "    5) / = operator\n",
    "    6) + = operator\n",
    "    7) 6 = value"
   ]
  },
  {
   "cell_type": "markdown",
   "id": "5c95b6ab",
   "metadata": {},
   "source": [
    "Q2. What is the difference between string and variable?\n",
    "\n",
    "Ans:- String = String is a type of information you would be store in a variable.\n",
    "\n",
    "variable = A variariable is a store of information.\n",
    "\n",
    "X = \"Akshay\" Here is X is a variable and \"Akshay\" is string."
   ]
  },
  {
   "cell_type": "markdown",
   "id": "8cb3e61e",
   "metadata": {},
   "source": [
    "Q3. Describe three different data types.\n",
    "\n",
    "Ans:-\n",
    "1) Integer\n",
    "    Used for wholwe number \n",
    "    Example = 1,3,565\n",
    "2) Float(floating point)\n",
    "    used for Number with Decimal point\n",
    "    Example= 3.21, 5.34, 12.4\n",
    "3) Boolean\n",
    "    used for Representing logical values.\n",
    "    Example = TRUE, FALSE"
   ]
  },
  {
   "cell_type": "markdown",
   "id": "e3fb2719",
   "metadata": {},
   "source": [
    "Q4. What is an expression made up of? What do all expressions do\n",
    "\n",
    "Ans:-An expression is a combination of operators, variables, values. Expressions need to be evaluated .All expressions evaluate to a single value."
   ]
  },
  {
   "cell_type": "markdown",
   "id": "8739370a",
   "metadata": {},
   "source": [
    "Q5. This assignment statements, like spam = 10. What is the difference between an expression and a statement?\n",
    "\n",
    "Ans:-A statement does something. Statements represent an action or command e.g print statements, assignment statements. An expression is a combination of operators, variables, values. Expressions need to be evaluated. An expression is something that can be reduced to a value."
   ]
  },
  {
   "cell_type": "markdown",
   "id": "270e7ca2",
   "metadata": {},
   "source": [
    "Q6. After running the following code, what does the variable bacon contain?\n",
    "bacon = 22\n",
    "bacon + 1"
   ]
  },
  {
   "cell_type": "code",
   "execution_count": 2,
   "id": "c3eafcf3",
   "metadata": {},
   "outputs": [
    {
     "name": "stdout",
     "output_type": "stream",
     "text": [
      "22\n"
     ]
    }
   ],
   "source": [
    "# Ans:-\n",
    "bacon = 22\n",
    "bacon + 1\n",
    "print(bacon)\n",
    "##bacon will contain 22"
   ]
  },
  {
   "cell_type": "markdown",
   "id": "94d2fcd0",
   "metadata": {},
   "source": [
    "Q7. What should the values of the following two terms be?\n",
    "'Spam' + 'spamspam'\n",
    "'spam'*3"
   ]
  },
  {
   "cell_type": "code",
   "execution_count": 3,
   "id": "75b61a20",
   "metadata": {},
   "outputs": [
    {
     "name": "stdout",
     "output_type": "stream",
     "text": [
      "SpamSpamspam\n",
      "SpamSpamSpam\n"
     ]
    }
   ],
   "source": [
    "# Ans;-\n",
    "print('Spam' + 'Spamspam')\n",
    "print('Spam'*3)"
   ]
  },
  {
   "cell_type": "markdown",
   "id": "826dc417",
   "metadata": {},
   "source": [
    "Q8. Why is eggs a valid variable name while 100 is invalid?\n",
    "\n",
    "Ans:-According to rules in python: A variable name cannot start with a number, therefore 100 cannot be the variable name."
   ]
  },
  {
   "cell_type": "markdown",
   "id": "a3f9463a",
   "metadata": {},
   "source": [
    "Q9. What three functions can be used to get the integer, floating-point number, or string version of a value?\n",
    "\n",
    "Ans:- The int(), float(), and str() functions will evaluate to the integer, floating-point number, and string versions of the value passed to them."
   ]
  },
  {
   "cell_type": "code",
   "execution_count": 4,
   "id": "ed184275",
   "metadata": {},
   "outputs": [
    {
     "name": "stdout",
     "output_type": "stream",
     "text": [
      "<class 'int'>\n",
      "<class 'float'>\n",
      "<class 'str'>\n"
     ]
    }
   ],
   "source": [
    "# Converting to integer\n",
    "int_value = int(10)\n",
    "print(type(int_value))\n",
    "#Converting to float\n",
    "float_value = float(10)\n",
    "print(type(float_value ))\n",
    "#Converting to String\n",
    "string_value = str(10)\n",
    "print(type(string_value))"
   ]
  },
  {
   "cell_type": "markdown",
   "id": "dd8b60c1",
   "metadata": {},
   "source": [
    "Q10. Why does this expression cause an error? How can you fix it?\n",
    "'I have eaten'+99+''burritos.'\n",
    "\n",
    "Ans:-The expression causes an error because 99 is an integer, and only strings can be concatenated to other strings with the + operator. The correct way is 'I have eaten ' + str(99) + ' burritos.'."
   ]
  }
 ],
 "metadata": {
  "kernelspec": {
   "display_name": "Python 3 (ipykernel)",
   "language": "python",
   "name": "python3"
  },
  "language_info": {
   "codemirror_mode": {
    "name": "ipython",
    "version": 3
   },
   "file_extension": ".py",
   "mimetype": "text/x-python",
   "name": "python",
   "nbconvert_exporter": "python",
   "pygments_lexer": "ipython3",
   "version": "3.8.8"
  }
 },
 "nbformat": 4,
 "nbformat_minor": 5
}
