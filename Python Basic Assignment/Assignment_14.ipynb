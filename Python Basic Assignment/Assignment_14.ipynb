{
 "cells": [
  {
   "cell_type": "markdown",
   "id": "113fb470",
   "metadata": {},
   "source": [
    "Q1. What does RGBA stand for?\n",
    "\n",
    "Ans:- Red-Green-Blue-Alpha"
   ]
  },
  {
   "cell_type": "markdown",
   "id": "989d5548",
   "metadata": {},
   "source": [
    "Q2. From the Pillow module, how do you get the RGBA value of any images?\n",
    "\n",
    "Ans:- "
   ]
  },
  {
   "cell_type": "code",
   "execution_count": 1,
   "id": "32ea3fb3",
   "metadata": {},
   "outputs": [
    {
     "data": {
      "text/plain": [
       "(255, 0, 0, 255)"
      ]
     },
     "execution_count": 1,
     "metadata": {},
     "output_type": "execute_result"
    }
   ],
   "source": [
    "from PIL import ImageColor\n",
    "ImageColor.getcolor('green', 'RGBA')\n",
    "ImageColor.getcolor('red', 'RGBA')"
   ]
  },
  {
   "cell_type": "markdown",
   "id": "e73f89f6",
   "metadata": {},
   "source": [
    "Q3. What is a box tuple, and how does it work?\n",
    "\n",
    "Ans:- A box tuple is a tuple value of four integers: the left edge x-coordinate, the top edge y-coordinate, the width, and the height, respectively"
   ]
  },
  {
   "cell_type": "markdown",
   "id": "dc05af5e",
   "metadata": {},
   "source": [
    "Q4. Use your image and load in notebook then, How can you find out the width and height of an\n",
    "Image object?\n",
    "\n",
    "Ans;- "
   ]
  },
  {
   "cell_type": "code",
   "execution_count": null,
   "id": "c52ab2fc",
   "metadata": {},
   "outputs": [],
   "source": [
    "from google.colab import files\n",
    "uploaded = files.upload()"
   ]
  },
  {
   "cell_type": "markdown",
   "id": "ecb79530",
   "metadata": {},
   "source": [
    " Upload widget is only available when the cell has been executed in the current browser session. Please rerun this cell to enable.\n",
    "\n",
    "Saving shiva.jpg to shiva.jpg"
   ]
  },
  {
   "cell_type": "code",
   "execution_count": 5,
   "id": "c51b4bf6",
   "metadata": {},
   "outputs": [
    {
     "data": {
      "text/plain": [
       "(1080, 1368)"
      ]
     },
     "execution_count": 5,
     "metadata": {},
     "output_type": "execute_result"
    }
   ],
   "source": [
    "from PIL import Image\n",
    "myImg = Image.open('1665635946194.jpg')\n",
    "w,h = myImg.size\n",
    "w,h"
   ]
  },
  {
   "cell_type": "markdown",
   "id": "0a6ab42a",
   "metadata": {},
   "source": [
    "Q5. What method would you call to get Image object for a 100×100 image, excluding the lower-left\n",
    "quarter of it?\n",
    "\n",
    "Ans;- ImageObject.crop((0, 50, 50, 50))"
   ]
  },
  {
   "cell_type": "markdown",
   "id": "b71c1258",
   "metadata": {},
   "source": [
    "Q6. After making changes to an Image object, how could you save it as an image file?\n",
    "\n",
    "Ans:- By Calling the imageObj.save('new_filename.png') method of the Image object"
   ]
  },
  {
   "cell_type": "markdown",
   "id": "b76601e4",
   "metadata": {},
   "source": [
    "Q7. What module contains Pillow’s shape-drawing code?\n",
    "\n",
    "Ans;- The ImageDraw module contains code to draw on images"
   ]
  },
  {
   "cell_type": "markdown",
   "id": "e62b7206",
   "metadata": {},
   "source": [
    "Q8. Image objects do not have drawing methods. What kind of object does? How do you get this kind\n",
    "of object?\n",
    "\n",
    "Ans:-  ImageDraw objects have shape-drawing methods such as point(), line(), or rectangle(). They are returned by passing the Image object to the ImageDraw.Draw() function"
   ]
  }
 ],
 "metadata": {
  "kernelspec": {
   "display_name": "Python 3 (ipykernel)",
   "language": "python",
   "name": "python3"
  },
  "language_info": {
   "codemirror_mode": {
    "name": "ipython",
    "version": 3
   },
   "file_extension": ".py",
   "mimetype": "text/x-python",
   "name": "python",
   "nbconvert_exporter": "python",
   "pygments_lexer": "ipython3",
   "version": "3.8.8"
  }
 },
 "nbformat": 4,
 "nbformat_minor": 5
}
