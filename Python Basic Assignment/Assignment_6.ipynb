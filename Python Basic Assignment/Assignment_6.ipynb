{
 "cells": [
  {
   "cell_type": "markdown",
   "id": "c16970a9",
   "metadata": {},
   "source": [
    "Q1. What are escape characters, and how do you use them?\n",
    "\n",
    "Ans: -In Python strings, the backslash \"\" is a special character, also called the \"escape\" character. It is used in representing certain whitespace characters: \"\\t\" is a tab, \"\\n\" is a newline, and \"\\r\" is a carriage return"
   ]
  },
  {
   "cell_type": "code",
   "execution_count": 1,
   "id": "debf32e1",
   "metadata": {},
   "outputs": [
    {
     "name": "stdout",
     "output_type": "stream",
     "text": [
      "my name is\n"
     ]
    }
   ],
   "source": [
    "print(\"my \\\n",
    "name \\\n",
    "is\")"
   ]
  },
  {
   "cell_type": "markdown",
   "id": "f60a57e1",
   "metadata": {},
   "source": [
    "Q2. What do the escape characters n and t stand for?\n",
    "\n",
    "Ans:-\"\\t\" is a tab, \"\\n\" is a newline"
   ]
  },
  {
   "cell_type": "markdown",
   "id": "0dca4ad1",
   "metadata": {},
   "source": [
    "Q3. What is the way to include backslash characters in a string?\n",
    "\n",
    "Ans:-"
   ]
  },
  {
   "cell_type": "code",
   "execution_count": 2,
   "id": "5374d627",
   "metadata": {},
   "outputs": [
    {
     "name": "stdout",
     "output_type": "stream",
     "text": [
      "its a back slash \\ in a line\n"
     ]
    }
   ],
   "source": [
    "print('its a back slash \\\\ in a line')"
   ]
  },
  {
   "cell_type": "markdown",
   "id": "968deef7",
   "metadata": {},
   "source": [
    "Q4. The string \"Howl's Moving Castle\" is a correct value. Why isn't the single quote character in the\n",
    "word Howl's not escaped a problem?\n",
    "\n",
    "Ans:- \n",
    "\n",
    "The single quote in Howl's is fine because you've used double quotes to mark the beginning and end of the string. like wise we can use double quotes in with single quotes"
   ]
  },
  {
   "cell_type": "code",
   "execution_count": 3,
   "id": "5b476948",
   "metadata": {},
   "outputs": [
    {
     "name": "stdout",
     "output_type": "stream",
     "text": [
      "HowI's Moving Castle\n"
     ]
    }
   ],
   "source": [
    "print(\"HowI's Moving Castle\")"
   ]
  },
  {
   "cell_type": "code",
   "execution_count": 5,
   "id": "58acda22",
   "metadata": {},
   "outputs": [
    {
     "name": "stdout",
     "output_type": "stream",
     "text": [
      "Its a \"Nice\" Day\n"
     ]
    }
   ],
   "source": [
    "# like wise we can use double quote in side single quote\n",
    "print('Its a \"Nice\" Day')"
   ]
  },
  {
   "cell_type": "markdown",
   "id": "8d2fef01",
   "metadata": {},
   "source": [
    "Q5. How do you write a string of newlines if you don't want to use the n character?"
   ]
  },
  {
   "cell_type": "code",
   "execution_count": 6,
   "id": "4c6c13ef",
   "metadata": {},
   "outputs": [
    {
     "name": "stdout",
     "output_type": "stream",
     "text": [
      "printing something in new line\n",
      "newline\n"
     ]
    }
   ],
   "source": [
    "print(\"printing something in new line\",end = '\\n')\n",
    "print(\"newline\")"
   ]
  },
  {
   "cell_type": "markdown",
   "id": "6c6d0886",
   "metadata": {},
   "source": [
    "Q6. What are the values of the given expressions?\n",
    "<br>\n",
    "&#39;Hello, world!&#39;[1]\n",
    "<br>\n",
    "&#39;Hello, world!&#39;[0:5]\n",
    "<br>\n",
    "&#39;Hello, world!&#39;[:5]\n",
    "<br>\n",
    "&#39;Hello, world!&#39;[3:]"
   ]
  },
  {
   "cell_type": "code",
   "execution_count": 7,
   "id": "c3eb18ac",
   "metadata": {},
   "outputs": [
    {
     "data": {
      "text/plain": [
       "'e'"
      ]
     },
     "execution_count": 7,
     "metadata": {},
     "output_type": "execute_result"
    }
   ],
   "source": [
    "'Hello, world!'[1]"
   ]
  },
  {
   "cell_type": "code",
   "execution_count": 8,
   "id": "9a443dbe",
   "metadata": {},
   "outputs": [
    {
     "data": {
      "text/plain": [
       "'Hello'"
      ]
     },
     "execution_count": 8,
     "metadata": {},
     "output_type": "execute_result"
    }
   ],
   "source": [
    "'Hello, world!'[0:5]"
   ]
  },
  {
   "cell_type": "code",
   "execution_count": 9,
   "id": "60210cc2",
   "metadata": {},
   "outputs": [
    {
     "data": {
      "text/plain": [
       "'Hello'"
      ]
     },
     "execution_count": 9,
     "metadata": {},
     "output_type": "execute_result"
    }
   ],
   "source": [
    "'Hello, world!'[:5]"
   ]
  },
  {
   "cell_type": "code",
   "execution_count": 10,
   "id": "573a036b",
   "metadata": {},
   "outputs": [
    {
     "data": {
      "text/plain": [
       "'lo, world!'"
      ]
     },
     "execution_count": 10,
     "metadata": {},
     "output_type": "execute_result"
    }
   ],
   "source": [
    "'Hello, world!'[3:]"
   ]
  },
  {
   "cell_type": "markdown",
   "id": "8885041c",
   "metadata": {},
   "source": [
    "Q7. What are the values of the following expressions?\n",
    "<br>\n",
    "&#39;Hello&#39;.upper()\n",
    "<br>\n",
    "&#39;Hello&#39;.upper().isupper()\n",
    "<br>\n",
    "&#39;Hello&#39;.upper().lower()"
   ]
  },
  {
   "cell_type": "code",
   "execution_count": 11,
   "id": "791a580b",
   "metadata": {},
   "outputs": [
    {
     "data": {
      "text/plain": [
       "'HELLO'"
      ]
     },
     "execution_count": 11,
     "metadata": {},
     "output_type": "execute_result"
    }
   ],
   "source": [
    "'Hello'.upper()"
   ]
  },
  {
   "cell_type": "code",
   "execution_count": 12,
   "id": "f0df84c8",
   "metadata": {},
   "outputs": [
    {
     "data": {
      "text/plain": [
       "True"
      ]
     },
     "execution_count": 12,
     "metadata": {},
     "output_type": "execute_result"
    }
   ],
   "source": [
    "'Hello'.upper().isupper() "
   ]
  },
  {
   "cell_type": "code",
   "execution_count": 13,
   "id": "ca4adb92",
   "metadata": {},
   "outputs": [
    {
     "data": {
      "text/plain": [
       "'hello'"
      ]
     },
     "execution_count": 13,
     "metadata": {},
     "output_type": "execute_result"
    }
   ],
   "source": [
    "'Hello'.upper().lower()"
   ]
  },
  {
   "cell_type": "markdown",
   "id": "76fc6499",
   "metadata": {},
   "source": [
    "Q8. What are the values of the following expressions?\n",
    "<br>\n",
    "&#39;Remember, remember, the fifth of July.&#39;.split()\n",
    "<br>\n",
    "&#39;-&#39;.join(&#39;There can only one.&#39;.split())"
   ]
  },
  {
   "cell_type": "code",
   "execution_count": 14,
   "id": "cde0282f",
   "metadata": {},
   "outputs": [
    {
     "data": {
      "text/plain": [
       "['Remember,', 'remember,', 'the', 'fifth', 'of', 'July.']"
      ]
     },
     "execution_count": 14,
     "metadata": {},
     "output_type": "execute_result"
    }
   ],
   "source": [
    "'Remember, remember, the fifth of July.'.split() "
   ]
  },
  {
   "cell_type": "code",
   "execution_count": 15,
   "id": "7a0d078c",
   "metadata": {},
   "outputs": [
    {
     "data": {
      "text/plain": [
       "'There-can-only-one.'"
      ]
     },
     "execution_count": 15,
     "metadata": {},
     "output_type": "execute_result"
    }
   ],
   "source": [
    "'-'.join('There can only one.'.split())"
   ]
  },
  {
   "cell_type": "markdown",
   "id": "2c77098a",
   "metadata": {},
   "source": [
    "Q9. What are the methods for right-justifying, left-justifying, and centering a string?"
   ]
  },
  {
   "cell_type": "code",
   "execution_count": 16,
   "id": "7b80b8fa",
   "metadata": {},
   "outputs": [
    {
     "data": {
      "text/plain": [
       "'Shiva-----'"
      ]
     },
     "execution_count": 16,
     "metadata": {},
     "output_type": "execute_result"
    }
   ],
   "source": [
    "# left justified\n",
    "str =\"Shiva\"\n",
    "str.ljust(10,\"-\")"
   ]
  },
  {
   "cell_type": "code",
   "execution_count": 17,
   "id": "acec390a",
   "metadata": {},
   "outputs": [
    {
     "data": {
      "text/plain": [
       "'******************************My name is'"
      ]
     },
     "execution_count": 17,
     "metadata": {},
     "output_type": "execute_result"
    }
   ],
   "source": [
    "# right justified\n",
    "str =\"My name is\"\n",
    "str.rjust(40,'*')"
   ]
  },
  {
   "cell_type": "code",
   "execution_count": 18,
   "id": "8ef536b5",
   "metadata": {},
   "outputs": [
    {
     "data": {
      "text/plain": [
       "'***************My name is***************'"
      ]
     },
     "execution_count": 18,
     "metadata": {},
     "output_type": "execute_result"
    }
   ],
   "source": [
    "# center justified\n",
    "str =\"My name is\"\n",
    "str.center(40,'*')"
   ]
  },
  {
   "cell_type": "markdown",
   "id": "366c2760",
   "metadata": {},
   "source": [
    "Q10. What is the best way to remove whitespace characters from the start or end?"
   ]
  },
  {
   "cell_type": "code",
   "execution_count": 19,
   "id": "f299326c",
   "metadata": {},
   "outputs": [
    {
     "data": {
      "text/plain": [
       "'gfgfgfgfgfgfgf yuyuyuuyuy  '"
      ]
     },
     "execution_count": 19,
     "metadata": {},
     "output_type": "execute_result"
    }
   ],
   "source": [
    "str =\"  gfgfgfgfgfgfgf yuyuyuuyuy  \"\n",
    "str.lstrip()"
   ]
  },
  {
   "cell_type": "code",
   "execution_count": 20,
   "id": "56ba39dc",
   "metadata": {},
   "outputs": [
    {
     "data": {
      "text/plain": [
       "'  yytytytyyt mmamamam'"
      ]
     },
     "execution_count": 20,
     "metadata": {},
     "output_type": "execute_result"
    }
   ],
   "source": [
    "str =\"  yytytytyyt mmamamam  \"\n",
    "str.rstrip()"
   ]
  }
 ],
 "metadata": {
  "kernelspec": {
   "display_name": "Python 3 (ipykernel)",
   "language": "python",
   "name": "python3"
  },
  "language_info": {
   "codemirror_mode": {
    "name": "ipython",
    "version": 3
   },
   "file_extension": ".py",
   "mimetype": "text/x-python",
   "name": "python",
   "nbconvert_exporter": "python",
   "pygments_lexer": "ipython3",
   "version": "3.8.8"
  }
 },
 "nbformat": 4,
 "nbformat_minor": 5
}
