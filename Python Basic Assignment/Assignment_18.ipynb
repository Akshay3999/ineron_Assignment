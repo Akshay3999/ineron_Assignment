{
 "cells": [
  {
   "cell_type": "markdown",
   "id": "6a25a581",
   "metadata": {},
   "source": [
    "Q1. Create a zoo.py file first. Define the hours() function, which prints the string &#39;Open 9-5 daily&#39;.\n",
    "Then, use the interactive interpreter to import the zoo module and call its hours() function."
   ]
  },
  {
   "cell_type": "code",
   "execution_count": null,
   "id": "5eb25439",
   "metadata": {},
   "outputs": [],
   "source": [
    "from google.colab import files\n",
    "uploaded = files.upload()"
   ]
  },
  {
   "cell_type": "markdown",
   "id": "fdc3dffd",
   "metadata": {},
   "source": [
    " Upload widget is only available when the cell has been executed in the current browser session. Please rerun this cell to enable.\n",
    "\n",
    "Saving zoo.py to zoo.py"
   ]
  },
  {
   "cell_type": "code",
   "execution_count": null,
   "id": "6b4dc7ae",
   "metadata": {},
   "outputs": [],
   "source": [
    "import zoo\n",
    "from importlib import reload\n",
    "reload(zoo)\n",
    "\n",
    "zoo.hours()"
   ]
  },
  {
   "cell_type": "markdown",
   "id": "3ada3f0e",
   "metadata": {},
   "source": [
    "Q2. In the interactive interpreter, import the zoo module as menagerie and call its hours() function."
   ]
  },
  {
   "cell_type": "code",
   "execution_count": null,
   "id": "1b196307",
   "metadata": {},
   "outputs": [],
   "source": [
    "import zoo as menagerie\n",
    "menagerie.hours()"
   ]
  },
  {
   "cell_type": "markdown",
   "id": "8954f86f",
   "metadata": {},
   "source": [
    "Q3. Using the interpreter, explicitly import and call the hours() function from zoo."
   ]
  },
  {
   "cell_type": "code",
   "execution_count": null,
   "id": "a46878f0",
   "metadata": {},
   "outputs": [],
   "source": [
    "from zoo import hours\n",
    "hours()"
   ]
  },
  {
   "cell_type": "markdown",
   "id": "9fd5dd2c",
   "metadata": {},
   "source": [
    "Q4. Import the hours() function as info and call it."
   ]
  },
  {
   "cell_type": "code",
   "execution_count": null,
   "id": "336802b2",
   "metadata": {},
   "outputs": [],
   "source": [
    "from zoo import hours as info\n",
    "info()"
   ]
  },
  {
   "cell_type": "markdown",
   "id": "8aec9c2f",
   "metadata": {},
   "source": [
    "Q5. Create a plain dictionary with the key-value pairs &#39;a&#39;: 1, &#39;b&#39;: 2, and &#39;c&#39;: 3, and print it out."
   ]
  },
  {
   "cell_type": "code",
   "execution_count": 26,
   "id": "8abe8354",
   "metadata": {},
   "outputs": [
    {
     "data": {
      "text/plain": [
       "{'a': 1, 'b': 2, 'c': 3}"
      ]
     },
     "execution_count": 26,
     "metadata": {},
     "output_type": "execute_result"
    }
   ],
   "source": [
    "plain = {'a': 1, 'b': 2, 'c': 3}\n",
    "plain"
   ]
  },
  {
   "cell_type": "markdown",
   "id": "da389866",
   "metadata": {},
   "source": [
    "Q6.Make an OrderedDict called fancy from the same pairs listed in 5 and print it. Did it print in the\n",
    "same order as plain?"
   ]
  },
  {
   "cell_type": "code",
   "execution_count": 27,
   "id": "2317300d",
   "metadata": {},
   "outputs": [
    {
     "data": {
      "text/plain": [
       "OrderedDict([('a', 1), ('b', 2), ('c', 3)])"
      ]
     },
     "execution_count": 27,
     "metadata": {},
     "output_type": "execute_result"
    }
   ],
   "source": [
    "#Yes\n",
    "from collections import OrderedDict\n",
    "fancy = OrderedDict([('a', 1), ('b', 2), ('c', 3)])\n",
    "fancy"
   ]
  },
  {
   "cell_type": "markdown",
   "id": "72209814",
   "metadata": {},
   "source": [
    "Q7. Make a default dictionary called dict_of_lists and pass it the argument list. Make the list\n",
    "dict_of_lists[&#39;a&#39;] and append the value &#39;something for a&#39; to it in one assignment. Print\n",
    "dict_of_lists[&#39;a&#39;]."
   ]
  },
  {
   "cell_type": "code",
   "execution_count": 28,
   "id": "0986b4a5",
   "metadata": {},
   "outputs": [
    {
     "data": {
      "text/plain": [
       "['something for a']"
      ]
     },
     "execution_count": 28,
     "metadata": {},
     "output_type": "execute_result"
    }
   ],
   "source": [
    "from collections import defaultdict\n",
    "dict_of_lists = defaultdict(list)\n",
    "dict_of_lists['a'].append('something for a')\n",
    "dict_of_lists['a']"
   ]
  }
 ],
 "metadata": {
  "kernelspec": {
   "display_name": "Python 3 (ipykernel)",
   "language": "python",
   "name": "python3"
  },
  "language_info": {
   "codemirror_mode": {
    "name": "ipython",
    "version": 3
   },
   "file_extension": ".py",
   "mimetype": "text/x-python",
   "name": "python",
   "nbconvert_exporter": "python",
   "pygments_lexer": "ipython3",
   "version": "3.8.8"
  }
 },
 "nbformat": 4,
 "nbformat_minor": 5
}
