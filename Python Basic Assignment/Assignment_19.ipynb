{
 "cells": [
  {
   "cell_type": "markdown",
   "id": "ae52bac3",
   "metadata": {},
   "source": [
    "Q1. Make a class called Thing with no contents and print it. Then, create an object called example\n",
    "from this class and also print it. Are the printed values the same or different?"
   ]
  },
  {
   "cell_type": "code",
   "execution_count": 1,
   "id": "fda79ff5",
   "metadata": {},
   "outputs": [],
   "source": [
    "class Thing:\n",
    "    pass"
   ]
  },
  {
   "cell_type": "code",
   "execution_count": 2,
   "id": "5dc9cbe7",
   "metadata": {},
   "outputs": [
    {
     "name": "stdout",
     "output_type": "stream",
     "text": [
      "<class '__main__.Thing'>\n"
     ]
    }
   ],
   "source": [
    "print(Thing)"
   ]
  },
  {
   "cell_type": "code",
   "execution_count": 3,
   "id": "ec03f090",
   "metadata": {},
   "outputs": [],
   "source": [
    "example = Thing()"
   ]
  },
  {
   "cell_type": "code",
   "execution_count": 4,
   "id": "b7866f08",
   "metadata": {},
   "outputs": [
    {
     "name": "stdout",
     "output_type": "stream",
     "text": [
      "<__main__.Thing object at 0x000002BD5B9647C0>\n"
     ]
    }
   ],
   "source": [
    "print(example)"
   ]
  },
  {
   "cell_type": "markdown",
   "id": "882eb950",
   "metadata": {},
   "source": [
    "Q2. Create a new class called Thing2 and add the value &#39;abc&#39; to the letters class attribute. Letters\n",
    "should be printed."
   ]
  },
  {
   "cell_type": "code",
   "execution_count": 5,
   "id": "8f547135",
   "metadata": {},
   "outputs": [],
   "source": [
    "class Thing2:\n",
    "        letters = 'abc'"
   ]
  },
  {
   "cell_type": "code",
   "execution_count": 6,
   "id": "3a3279f2",
   "metadata": {},
   "outputs": [
    {
     "name": "stdout",
     "output_type": "stream",
     "text": [
      "abc\n"
     ]
    }
   ],
   "source": [
    "print(Thing2.letters)"
   ]
  },
  {
   "cell_type": "markdown",
   "id": "8a0a8fda",
   "metadata": {},
   "source": [
    "Q3. Make yet another class called, of course, Thing3. This time, assign the value &#39;xyz&#39; to an instance\n",
    "(object) attribute called letters. Print letters. Do you need to make an object from the class to do\n",
    "this?"
   ]
  },
  {
   "cell_type": "code",
   "execution_count": 7,
   "id": "53aec958",
   "metadata": {},
   "outputs": [],
   "source": [
    "class Thing3:\n",
    "        def __init__(self):\n",
    "            self.letters = 'xyz'"
   ]
  },
  {
   "cell_type": "code",
   "execution_count": 8,
   "id": "9c16fd20",
   "metadata": {},
   "outputs": [
    {
     "ename": "AttributeError",
     "evalue": "type object 'Thing3' has no attribute 'letters'",
     "output_type": "error",
     "traceback": [
      "\u001b[1;31m---------------------------------------------------------------------------\u001b[0m",
      "\u001b[1;31mAttributeError\u001b[0m                            Traceback (most recent call last)",
      "Input \u001b[1;32mIn [8]\u001b[0m, in \u001b[0;36m<cell line: 1>\u001b[1;34m()\u001b[0m\n\u001b[1;32m----> 1\u001b[0m \u001b[38;5;28mprint\u001b[39m(\u001b[43mThing3\u001b[49m\u001b[38;5;241;43m.\u001b[39;49m\u001b[43mletters\u001b[49m)\n",
      "\u001b[1;31mAttributeError\u001b[0m: type object 'Thing3' has no attribute 'letters'"
     ]
    }
   ],
   "source": [
    "print(Thing3.letters)"
   ]
  },
  {
   "cell_type": "code",
   "execution_count": 9,
   "id": "444609b7",
   "metadata": {},
   "outputs": [],
   "source": [
    "something = Thing3()"
   ]
  },
  {
   "cell_type": "code",
   "execution_count": 10,
   "id": "eaa454a6",
   "metadata": {},
   "outputs": [
    {
     "name": "stdout",
     "output_type": "stream",
     "text": [
      "xyz\n"
     ]
    }
   ],
   "source": [
    "print(something.letters)"
   ]
  },
  {
   "cell_type": "markdown",
   "id": "7c635769",
   "metadata": {},
   "source": [
    "Q4. Create an Element class with the instance attributes name, symbol, and number. Create a class\n",
    "object with the values &#39;Hydrogen,&#39; &#39;H,&#39; and 1."
   ]
  },
  {
   "cell_type": "code",
   "execution_count": 11,
   "id": "5fe3c1e8",
   "metadata": {},
   "outputs": [],
   "source": [
    "class Element:\n",
    "        def __init__(self, name, symbol, number):\n",
    "            self.name = name\n",
    "            self.symbol = symbol\n",
    "            self.number = number"
   ]
  },
  {
   "cell_type": "code",
   "execution_count": 12,
   "id": "c11818dd",
   "metadata": {},
   "outputs": [],
   "source": [
    "hydrogen = Element('Hydrogen', 'H', 1)"
   ]
  },
  {
   "cell_type": "markdown",
   "id": "b619e761",
   "metadata": {},
   "source": [
    "Q5. Make a dictionary with these keys and values: &#39;name&#39;: &#39;Hydrogen&#39;, &#39;symbol&#39;: &#39;H&#39;, &#39;number&#39;: 1. Then,\n",
    "create an object called hydrogen from class Element using this dictionary."
   ]
  },
  {
   "cell_type": "code",
   "execution_count": 13,
   "id": "1544007e",
   "metadata": {},
   "outputs": [],
   "source": [
    "el_dict = {'name': 'Hydrogen', 'symbol': 'H', 'number': 1}"
   ]
  },
  {
   "cell_type": "code",
   "execution_count": 14,
   "id": "04657b33",
   "metadata": {},
   "outputs": [],
   "source": [
    "hydrogen = Element(el_dict['name'], el_dict['symbol'], el_dict['number'])"
   ]
  },
  {
   "cell_type": "code",
   "execution_count": 15,
   "id": "42fcdc8e",
   "metadata": {},
   "outputs": [
    {
     "data": {
      "text/plain": [
       "'Hydrogen'"
      ]
     },
     "execution_count": 15,
     "metadata": {},
     "output_type": "execute_result"
    }
   ],
   "source": [
    "hydrogen.name"
   ]
  },
  {
   "cell_type": "code",
   "execution_count": 16,
   "id": "3476c588",
   "metadata": {},
   "outputs": [],
   "source": [
    "hydrogen = Element(**el_dict)"
   ]
  },
  {
   "cell_type": "code",
   "execution_count": 17,
   "id": "0bb07146",
   "metadata": {},
   "outputs": [
    {
     "data": {
      "text/plain": [
       "'Hydrogen'"
      ]
     },
     "execution_count": 17,
     "metadata": {},
     "output_type": "execute_result"
    }
   ],
   "source": [
    "hydrogen.name"
   ]
  },
  {
   "cell_type": "markdown",
   "id": "b7b9d37c",
   "metadata": {},
   "source": [
    "Q6. For the Element class, define a method called dump() that prints the values of the object’s\n",
    "attributes (name, symbol, and number). Create the hydrogen object from this new definition and\n",
    "use dump() to print its attributes."
   ]
  },
  {
   "cell_type": "code",
   "execution_count": 18,
   "id": "72d5ba51",
   "metadata": {},
   "outputs": [],
   "source": [
    "class Element:\n",
    "        def __init__(self, name, symbol, number):\n",
    "            self.name = name\n",
    "            self.symbol = symbol\n",
    "            self.number = number\n",
    "        def dump(self):\n",
    "            print('name=%s, symbol=%s, number=%s' %\n",
    "                (self.name, self.symbol, self.number))"
   ]
  },
  {
   "cell_type": "code",
   "execution_count": 19,
   "id": "824662e1",
   "metadata": {},
   "outputs": [],
   "source": [
    "hydrogen = Element(**el_dict)"
   ]
  },
  {
   "cell_type": "code",
   "execution_count": 20,
   "id": "abd506ac",
   "metadata": {},
   "outputs": [
    {
     "name": "stdout",
     "output_type": "stream",
     "text": [
      "name=Hydrogen, symbol=H, number=1\n"
     ]
    }
   ],
   "source": [
    "hydrogen.dump()"
   ]
  },
  {
   "cell_type": "markdown",
   "id": "b6889af7",
   "metadata": {},
   "source": [
    "Q7. Call print(hydrogen). In the definition of Element, change the name of method dump to __str__,\n",
    "create a new hydrogen object, and call print(hydrogen) again."
   ]
  },
  {
   "cell_type": "code",
   "execution_count": 21,
   "id": "df72d412",
   "metadata": {},
   "outputs": [
    {
     "name": "stdout",
     "output_type": "stream",
     "text": [
      "<__main__.Element object at 0x000002BD5B95A430>\n"
     ]
    }
   ],
   "source": [
    "print(hydrogen)"
   ]
  },
  {
   "cell_type": "code",
   "execution_count": 22,
   "id": "98c92d37",
   "metadata": {},
   "outputs": [],
   "source": [
    "class Element:\n",
    "        def __init__(self, name, symbol, number):\n",
    "            self.name = name\n",
    "            self.symbol = symbol\n",
    "            self.number = number\n",
    "        def __str__(self):\n",
    "            return ('name=%s, symbol=%s, number=%s' %\n",
    "                (self.name, self.symbol, self.number))"
   ]
  },
  {
   "cell_type": "code",
   "execution_count": 23,
   "id": "3c4a6c18",
   "metadata": {},
   "outputs": [],
   "source": [
    "hydrogen = Element(**el_dict)"
   ]
  },
  {
   "cell_type": "code",
   "execution_count": 24,
   "id": "f579e73d",
   "metadata": {},
   "outputs": [
    {
     "name": "stdout",
     "output_type": "stream",
     "text": [
      "name=Hydrogen, symbol=H, number=1\n"
     ]
    }
   ],
   "source": [
    "print(hydrogen)"
   ]
  },
  {
   "cell_type": "markdown",
   "id": "d671c00b",
   "metadata": {},
   "source": [
    "Q8. Modify Element to make the attributes name, symbol, and number private. Define a getter\n",
    "property for each to return its value."
   ]
  },
  {
   "cell_type": "code",
   "execution_count": 25,
   "id": "728b5eac",
   "metadata": {},
   "outputs": [],
   "source": [
    "class Element:\n",
    "        def __init__(self, name, symbol, number):\n",
    "            self.__name = name\n",
    "            self.__symbol = symbol\n",
    "            self.__number = number\n",
    "        @property\n",
    "        def name(self):\n",
    "            return self.__name\n",
    "        @property\n",
    "        def symbol(self):\n",
    "            return self.__symbol\n",
    "        @property\n",
    "        def number(self):\n",
    "            return self.__number"
   ]
  },
  {
   "cell_type": "code",
   "execution_count": 26,
   "id": "71a43871",
   "metadata": {},
   "outputs": [],
   "source": [
    "hydrogen = Element('Hydrogen', 'H', 1)"
   ]
  },
  {
   "cell_type": "code",
   "execution_count": 27,
   "id": "7662cb2c",
   "metadata": {},
   "outputs": [
    {
     "data": {
      "text/plain": [
       "'Hydrogen'"
      ]
     },
     "execution_count": 27,
     "metadata": {},
     "output_type": "execute_result"
    }
   ],
   "source": [
    "hydrogen.name"
   ]
  },
  {
   "cell_type": "code",
   "execution_count": 28,
   "id": "086c0504",
   "metadata": {},
   "outputs": [
    {
     "data": {
      "text/plain": [
       "'H'"
      ]
     },
     "execution_count": 28,
     "metadata": {},
     "output_type": "execute_result"
    }
   ],
   "source": [
    "hydrogen.symbol"
   ]
  },
  {
   "cell_type": "code",
   "execution_count": 29,
   "id": "c3622f22",
   "metadata": {},
   "outputs": [
    {
     "data": {
      "text/plain": [
       "1"
      ]
     },
     "execution_count": 29,
     "metadata": {},
     "output_type": "execute_result"
    }
   ],
   "source": [
    "hydrogen.number"
   ]
  },
  {
   "cell_type": "markdown",
   "id": "af8d1d29",
   "metadata": {},
   "source": [
    "Q9. Define three classes: Bear, Rabbit, and Octothorpe. For each, define only one method: eats(). This\n",
    "should return &#39;berries&#39; (Bear), &#39;clover&#39;"
   ]
  },
  {
   "cell_type": "code",
   "execution_count": 30,
   "id": "859c9ef9",
   "metadata": {},
   "outputs": [],
   "source": [
    "class Bear:\n",
    "        def eats(self):\n",
    "            return 'berries'\n",
    "class Rabbit:\n",
    "     def eats(self):\n",
    "        return 'clover'\n",
    "class Octothorpe:\n",
    "     def eats(self):\n",
    "            return 'campers'"
   ]
  },
  {
   "cell_type": "code",
   "execution_count": 31,
   "id": "ed078f68",
   "metadata": {},
   "outputs": [],
   "source": [
    "b = Bear()"
   ]
  },
  {
   "cell_type": "code",
   "execution_count": 32,
   "id": "b142bc79",
   "metadata": {},
   "outputs": [],
   "source": [
    "r = Rabbit()"
   ]
  },
  {
   "cell_type": "code",
   "execution_count": 33,
   "id": "0a23007c",
   "metadata": {},
   "outputs": [],
   "source": [
    "o = Octothorpe()"
   ]
  },
  {
   "cell_type": "code",
   "execution_count": 34,
   "id": "49439cea",
   "metadata": {},
   "outputs": [
    {
     "name": "stdout",
     "output_type": "stream",
     "text": [
      "berries\n"
     ]
    }
   ],
   "source": [
    "print(b.eats())"
   ]
  },
  {
   "cell_type": "code",
   "execution_count": 35,
   "id": "317f8a17",
   "metadata": {},
   "outputs": [
    {
     "name": "stdout",
     "output_type": "stream",
     "text": [
      "clover\n"
     ]
    }
   ],
   "source": [
    "print(r.eats())"
   ]
  },
  {
   "cell_type": "code",
   "execution_count": 36,
   "id": "c762fccf",
   "metadata": {},
   "outputs": [
    {
     "name": "stdout",
     "output_type": "stream",
     "text": [
      "campers\n"
     ]
    }
   ],
   "source": [
    "print(o.eats())"
   ]
  },
  {
   "cell_type": "markdown",
   "id": "71f777f3",
   "metadata": {},
   "source": [
    "Q10. Define these classes: Laser, Claw, and SmartPhone. Each has only one method: does(). This\n",
    "returns &#39;disintegrate&#39; (Laser), &#39;crush&#39; (Claw), or &#39;ring&#39; (SmartPhone). Then, define the class Robot that\n",
    "has one instance (object) of each of these. Define a does() method for the Robot that prints what its\n",
    "component objects do."
   ]
  },
  {
   "cell_type": "code",
   "execution_count": 37,
   "id": "40390b38",
   "metadata": {},
   "outputs": [],
   "source": [
    "class Laser:\n",
    "    def does(self):\n",
    "             return 'disintegrate'\n",
    "class Claw:\n",
    "     def does(self):\n",
    "            return 'crush'\n",
    "\n",
    "class SmartPhone:\n",
    "     def does(self):\n",
    "            return 'ring'\n",
    "\n",
    "class Robot:\n",
    "    def __init__(self):\n",
    "            self.laser = Laser()\n",
    "            self.claw = Claw()\n",
    "            self.smartphone = SmartPhone()\n",
    "    def does(self):\n",
    "            return '''I have many attachments:\n",
    "            My laser, to %s.\n",
    "            My claw, to %s.\n",
    "            My smartphone, to %s.''' % (\n",
    "            self.laser.does(),\n",
    "            self.claw.does(),\n",
    "            self.smartphone.does() )"
   ]
  },
  {
   "cell_type": "code",
   "execution_count": 38,
   "id": "b4e6b3e7",
   "metadata": {},
   "outputs": [],
   "source": [
    "robbie = Robot()"
   ]
  }
 ],
 "metadata": {
  "kernelspec": {
   "display_name": "Python 3 (ipykernel)",
   "language": "python",
   "name": "python3"
  },
  "language_info": {
   "codemirror_mode": {
    "name": "ipython",
    "version": 3
   },
   "file_extension": ".py",
   "mimetype": "text/x-python",
   "name": "python",
   "nbconvert_exporter": "python",
   "pygments_lexer": "ipython3",
   "version": "3.8.8"
  }
 },
 "nbformat": 4,
 "nbformat_minor": 5
}
