{
 "cells": [
  {
   "cell_type": "markdown",
   "id": "046676d6",
   "metadata": {},
   "source": [
    "# 1.Write a Python Program to Find LCM?"
   ]
  },
  {
   "cell_type": "code",
   "execution_count": 2,
   "id": "962cfc03",
   "metadata": {},
   "outputs": [
    {
     "name": "stdout",
     "output_type": "stream",
     "text": [
      "Enter 1st number: 15\n",
      "Enter 2nd number: 16\n",
      "\n",
      "The L. C. M of 15 nad 16 is 240.\n"
     ]
    }
   ],
   "source": [
    "def lcm(num1,num2):\n",
    "    try:\n",
    "        if num1 > num2:\n",
    "            greater = num1\n",
    "        else:\n",
    "            greater = num2\n",
    "            \n",
    "        while True:\n",
    "            if greater % num1 == 0 and greater % num2 == 0:\n",
    "                lcm = greater\n",
    "                break\n",
    "            greater += 1\n",
    "        return lcm\n",
    "    except Exception as e:\n",
    "        print(\"\\nSome exception occurred: \",e)\n",
    "\n",
    "try:\n",
    "    num1 = int(input(\"Enter 1st number: \"))\n",
    "    num2 = int(input(\"Enter 2nd number: \"))\n",
    "    print(\"\\nThe L. C. M of {} nad {} is {}.\".format(num1,num2,lcm(num1,num2)))\n",
    "except Exception as e:\n",
    "    print(\"\\nSome exception occurred: \",e)"
   ]
  },
  {
   "cell_type": "markdown",
   "id": "ec4c7e0a",
   "metadata": {},
   "source": [
    "# 2. Write a Python Program to Find HCF?"
   ]
  },
  {
   "cell_type": "code",
   "execution_count": 7,
   "id": "8d1d2da9",
   "metadata": {},
   "outputs": [
    {
     "name": "stdout",
     "output_type": "stream",
     "text": [
      "Enter 1st number: 68\n",
      "Enter 2nd number: 22\n",
      "\n",
      "Some H .C. F of 68 and 22 is 2\n"
     ]
    }
   ],
   "source": [
    "def HCF(x,y):\n",
    "    try:\n",
    "        if x < y:\n",
    "            smaller = x\n",
    "        else :\n",
    "            smaller = y\n",
    "        \n",
    "        for i in range(1,smaller +1):\n",
    "            if x % i == 0 and y % i == 0:\n",
    "                HCF = i\n",
    "                \n",
    "        return HCF\n",
    "        \n",
    "    except Exception as e:\n",
    "        print(\"\\nSome exception occurred: \",e)\n",
    "            \n",
    "try:\n",
    "    x = int(input(\"Enter 1st number: \"))\n",
    "    y = int(input(\"Enter 2nd number: \"))\n",
    "    print(\"\\nSome H .C. F of {} and {} is {}\".format(x,y,HCF(x,y)))\n",
    "except Exception as e:\n",
    "    print(\"\\nSome exception occurred: \",e)"
   ]
  },
  {
   "cell_type": "markdown",
   "id": "d9ee8cd4",
   "metadata": {},
   "source": [
    "# 3. Write a Python Program to Convert Decimal to Binary, Octal and Hexadecimal?"
   ]
  },
  {
   "cell_type": "code",
   "execution_count": 13,
   "id": "abab403c",
   "metadata": {},
   "outputs": [
    {
     "name": "stdout",
     "output_type": "stream",
     "text": [
      "Enter the number: 66\n",
      "\n",
      " 66 in binary is 0b1000010\n",
      "\n",
      " 66 in octal is 0o102\n",
      "\n",
      " 66 in hexadecimal is 0x42\n"
     ]
    }
   ],
   "source": [
    "def conversion(x):\n",
    "    \n",
    "    print(\"\\n {} in binary is {}\".format(x,bin(x)))\n",
    "    print(\"\\n {} in octal is {}\".format(x,oct(x)))\n",
    "    print(\"\\n {} in hexadecimal is {}\".format(x,hex(x)))\n",
    "    \n",
    "    return\n",
    "\n",
    "try:\n",
    "    x = int(input(\"Enter the number: \"))\n",
    "    conversion(x)\n",
    "    \n",
    "except Exception as e:\n",
    "    print(\"\\nSome exception occurred: \",e)"
   ]
  },
  {
   "cell_type": "markdown",
   "id": "47eb9f1a",
   "metadata": {},
   "source": [
    "#  4. Write a Python Program To Find ASCII value of a character?"
   ]
  },
  {
   "cell_type": "code",
   "execution_count": 8,
   "id": "647c2e64",
   "metadata": {},
   "outputs": [
    {
     "name": "stdout",
     "output_type": "stream",
     "text": [
      "Enter any character: f\n",
      "\n",
      "The ASCII value of f is 102\n"
     ]
    }
   ],
   "source": [
    "def ASCII(char):\n",
    "    \n",
    "    print(\"\\nThe ASCII value of {} is {}\".format(char,ord(char)))\n",
    "    \n",
    "    return\n",
    "\n",
    "try:\n",
    "    while True:\n",
    "        char = input(\"Enter any character: \")\n",
    "        if len(char) > 1 or len(char) == 0:\n",
    "            continue\n",
    "        else:\n",
    "            \n",
    "            break\n",
    "            \n",
    "    ASCII(char)\n",
    "except Exception as e:\n",
    "    print(\"\\nSome exception occurred: \",e)"
   ]
  },
  {
   "cell_type": "markdown",
   "id": "70838a86",
   "metadata": {},
   "source": [
    "# 5. Write a Python Program to Make a Simple Calculator with 4 basic mathematical operations?"
   ]
  },
  {
   "cell_type": "code",
   "execution_count": 40,
   "id": "391dc95c",
   "metadata": {},
   "outputs": [
    {
     "name": "stdout",
     "output_type": "stream",
     "text": [
      "\n",
      "Enter your choice: 1\n",
      "Enter 1st number: 20\n",
      "Enter 2nd number: 10\n",
      "\n",
      "Addition of 20.0 and 10.0 is 30.0.\n",
      "\n",
      "Enter your choice: 2\n",
      "Enter 1st number: 10\n",
      "Enter 2nd number: 20\n",
      "\n",
      "Subtraction of 10.0 and 20.0 is -10.0.\n",
      "\n",
      "Enter your choice: 3\n",
      "Enter 1st number: 40\n",
      "Enter 2nd number: 10\n",
      "\n",
      "Multiplication of 40.0 and 10.0 is 400.0.\n",
      "\n",
      "Enter your choice: 4\n",
      "Enter 1st number: 50\n",
      "Enter 2nd number: 5\n",
      "\n",
      "Division of 50.0 and 5.0 is 10.0.\n",
      "\n",
      "Enter your choice: 5\n",
      "\n",
      "Program Terminated Successfully.\n"
     ]
    }
   ],
   "source": [
    "def add(a,b):\n",
    "    try:\n",
    "        add = a + b\n",
    "    except Exception as e:\n",
    "        print(\"\\nSome exception occurred: \",e)\n",
    "    return add\n",
    "\n",
    "def sub(a,b):\n",
    "    try:\n",
    "        sub = a-b\n",
    "    except Exception as e:\n",
    "        print(\"\\nSome exception occurred: \",e)\n",
    "        \n",
    "    return sub\n",
    "\n",
    "def mul(a,b):\n",
    "    try:\n",
    "        mul = a * b\n",
    "    except Exception as e:\n",
    "        print(\"\\nSome exception occurred: \",e)\n",
    "        \n",
    "    return mul\n",
    "\n",
    "def div(a,b):\n",
    "    try:\n",
    "        div = a/b\n",
    "    except Exception as e:\n",
    "        print(\"\\nSome exception occurred: \",e)\n",
    "        \n",
    "    return div\n",
    "\n",
    "try:\n",
    "    while True:\n",
    "        choice = int(input(\"\\nEnter your choice: \"))\n",
    "        if choice in (1,2,3,4):\n",
    "            num1 = float(input(\"Enter 1st number: \"))\n",
    "            num2 = float(input(\"Enter 2nd number: \"))\n",
    "            \n",
    "            if choice == 1:\n",
    "                print(\"\\nAddition of {} and {} is {}.\".format(num1,num2,add(num1,num2)))\n",
    "            elif choice == 2:\n",
    "                print(\"\\nSubtraction of {} and {} is {}.\".format(num1,num2,sub(num1,num2)))\n",
    "            elif choice == 3:\n",
    "                print(\"\\nMultiplication of {} and {} is {}.\".format(num1,num2,mul(num1,num2)))\n",
    "            elif choice == 4:\n",
    "                print(\"\\nDivision of {} and {} is {}.\".format(num1,num2,div(num1,num2)))\n",
    "                \n",
    "        elif choice == 5:\n",
    "            print(\"\\nProgram Terminated Successfully.\")\n",
    "            break\n",
    "            \n",
    "        else:\n",
    "            print(\"\\nInvalid choice. Please select from Menu.\")\n",
    "except Exception as e:\n",
    "    print(\"\\nSome exception occurred: \",e)"
   ]
  }
 ],
 "metadata": {
  "kernelspec": {
   "display_name": "Python 3",
   "language": "python",
   "name": "python3"
  },
  "language_info": {
   "codemirror_mode": {
    "name": "ipython",
    "version": 3
   },
   "file_extension": ".py",
   "mimetype": "text/x-python",
   "name": "python",
   "nbconvert_exporter": "python",
   "pygments_lexer": "ipython3",
   "version": "3.8.8"
  }
 },
 "nbformat": 4,
 "nbformat_minor": 5
}
