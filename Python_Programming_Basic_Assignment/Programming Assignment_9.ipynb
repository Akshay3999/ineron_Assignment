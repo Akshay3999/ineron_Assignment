{
 "cells": [
  {
   "cell_type": "markdown",
   "id": "5bc8ccfe",
   "metadata": {},
   "source": [
    "# 1. Write a Python program to check if the given number is a Disarium Number?"
   ]
  },
  {
   "cell_type": "code",
   "execution_count": 3,
   "id": "30854380",
   "metadata": {},
   "outputs": [
    {
     "name": "stdout",
     "output_type": "stream",
     "text": [
      "Enter number: 2\n",
      "Given number is disarium no 2\n"
     ]
    }
   ],
   "source": [
    "# Python program to check if given number is Disarium Number\n",
    "'''A number is said to be a Disarium number when the sum of its digit raised to the power of their respective position is equal to the number itself.'''\n",
    "\n",
    "n = int(input(\"Enter number: \"))\n",
    "temp = n\n",
    "count = 0\n",
    "x = n\n",
    "while temp!=0:\n",
    "    temp = temp//10\n",
    "    count =count+1\n",
    "\n",
    "sum = 0\n",
    "while x>0:\n",
    "    rem=x%10  #Individual digit\n",
    "    sum = sum+rem**count\n",
    "    x=x//10\n",
    "    count=count-1\n",
    "\n",
    "if sum == n:\n",
    "    print(\"Given number is disarium no\",n)\n",
    "else:\n",
    "    print(\"Given number is not disarium no\",n)"
   ]
  },
  {
   "cell_type": "markdown",
   "id": "542acbae",
   "metadata": {},
   "source": [
    "# 2. Write a Python program to print all disarium numbers between 1 to 100?"
   ]
  },
  {
   "cell_type": "code",
   "execution_count": 2,
   "id": "abc95618",
   "metadata": {},
   "outputs": [
    {
     "name": "stdout",
     "output_type": "stream",
     "text": [
      "Disarium numbers between 1 and 100 are\n",
      "1\n",
      "2\n",
      "3\n",
      "4\n",
      "5\n",
      "6\n",
      "7\n",
      "8\n",
      "9\n",
      "89\n"
     ]
    }
   ],
   "source": [
    "def Length(n):\n",
    "    length = 0\n",
    "    while(n != 0):       # calculating the length of the number\n",
    "        length = length + 1\n",
    "        n = n//10\n",
    "    return length\n",
    "#sumDigit()\n",
    "def sumdigit(num):\n",
    "    rem = sum = 0\n",
    "    len = Length(num)  # checking the number is disarium or not\n",
    "        \n",
    "    while(num != 0):\n",
    "        rem = num%10\n",
    "        sum = sum+(rem**len)\n",
    "        num = num//10\n",
    "        len = len - 1\n",
    "    return sum\n",
    "      \n",
    "result = 0\n",
    "     \n",
    "print(\"Disarium numbers between 1 and 100 are\")\n",
    "for i in range(1,101):           # printing disarium numbers\n",
    "    result = sumdigit(i)\n",
    "    \n",
    "    if(result == i):\n",
    "        print(i)"
   ]
  },
  {
   "cell_type": "markdown",
   "id": "b61f2949",
   "metadata": {},
   "source": [
    "# 3. Write a Python program to check if the given number is Happy Number?"
   ]
  },
  {
   "cell_type": "code",
   "execution_count": 4,
   "id": "6bcae13c",
   "metadata": {},
   "outputs": [
    {
     "name": "stdout",
     "output_type": "stream",
     "text": [
      "Enter the number:32\n",
      "32 is happy number\n"
     ]
    }
   ],
   "source": [
    "# Check the number is happy or unhappy?\n",
    "def Happy_number(num):\n",
    "    sum = 0\n",
    "    rem = 0\n",
    "    while num > 0:\n",
    "        rem = num%10\n",
    "        sum = sum +(rem*rem)\n",
    "        num = num //10\n",
    "    return sum\n",
    "\n",
    "n = int(input(\"Enter the number:\"))\n",
    "result = n\n",
    "\n",
    "while result!=1 and result!=4:\n",
    "    result = Happy_number(result)\n",
    "    \n",
    "if result == 1:\n",
    "    print(n, \"is happy number\")\n",
    "    \n",
    "else:\n",
    "    print(n,\"is not happy number\")"
   ]
  },
  {
   "cell_type": "markdown",
   "id": "55791f37",
   "metadata": {},
   "source": [
    "# 4. Write a Python program to print all happy numbers between 1 and 100?"
   ]
  },
  {
   "cell_type": "code",
   "execution_count": 5,
   "id": "120752e4",
   "metadata": {},
   "outputs": [
    {
     "name": "stdout",
     "output_type": "stream",
     "text": [
      "1\n",
      " \n",
      "7\n",
      " \n",
      "10\n",
      " \n",
      "13\n",
      " \n",
      "19\n",
      " \n",
      "23\n",
      " \n",
      "28\n",
      " \n",
      "31\n",
      " \n",
      "32\n",
      " \n",
      "44\n",
      " \n",
      "49\n",
      " \n",
      "68\n",
      " \n",
      "70\n",
      " \n",
      "79\n",
      " \n",
      "82\n",
      " \n",
      "86\n",
      " \n",
      "91\n",
      " \n",
      "94\n",
      " \n",
      "97\n",
      " \n",
      "100\n",
      " \n"
     ]
    }
   ],
   "source": [
    "def Happy_number(num):\n",
    "    sum = 0\n",
    "    rem = 0\n",
    "    \n",
    "    while num >0:\n",
    "        rem = num%10\n",
    "        sum = sum + (rem*rem)\n",
    "        num = num//10\n",
    "        \n",
    "    return sum \n",
    "\n",
    "for i in range(1,101):\n",
    "    result = i\n",
    "    \n",
    "    while(result!= 1 and result!=4):\n",
    "        result = Happy_number(result)\n",
    "        \n",
    "    if(result==1):\n",
    "        print(i),\n",
    "        print(\" \")"
   ]
  },
  {
   "cell_type": "markdown",
   "id": "f517d4ca",
   "metadata": {},
   "source": [
    "# 5.Write a Python program to determine whether the given number is a Harshad Number?"
   ]
  },
  {
   "cell_type": "code",
   "execution_count": 6,
   "id": "ba615f59",
   "metadata": {},
   "outputs": [
    {
     "name": "stdout",
     "output_type": "stream",
     "text": [
      "Enter the Number = 3\n",
      "The Sum of the Digits = 3\n",
      "3 is a Harshad Number.\n"
     ]
    }
   ],
   "source": [
    "def digitsSum(Number):\n",
    "    Sum = rem = 0\n",
    "    while Number > 0:\n",
    "        rem = Number % 10\n",
    "        Sum = Sum + rem\n",
    "        Number = Number // 10\n",
    "    return Sum\n",
    "\n",
    "\n",
    "Number = int(input(\"Enter the Number = \"))\n",
    "Sum = digitsSum(Number)\n",
    "\n",
    "print(\"The Sum of the Digits = %d\" %Sum)\n",
    "\n",
    "if Number % Sum == 0:\n",
    "    print(\"%d is a Harshad Number.\" %Number)\n",
    "else:\n",
    "    print(\"%d is Not.\" %Number)"
   ]
  },
  {
   "cell_type": "markdown",
   "id": "92d57601",
   "metadata": {},
   "source": [
    "# 6. Write a Python program to print all pronic numbers between 1 and 100?"
   ]
  },
  {
   "cell_type": "code",
   "execution_count": 7,
   "id": "aa1e5c49",
   "metadata": {},
   "outputs": [
    {
     "name": "stdout",
     "output_type": "stream",
     "text": [
      "2\n",
      " \n",
      "6\n",
      " \n",
      "12\n",
      " \n",
      "20\n",
      " \n",
      "30\n",
      " \n",
      "42\n",
      " \n",
      "56\n",
      " \n",
      "72\n",
      " \n",
      "90\n",
      " \n"
     ]
    }
   ],
   "source": [
    "# To find whether a number n is a Pronic number or not, use for loop to iterate from i = 1 to i = n and check whether i*(i+1) is equal to n for any value of i.\n",
    "# Some of the examples of Pronic numbers are\n",
    "# 6 = 2 x 3\n",
    "# 72 = 8 x 9\n",
    "\n",
    "def pronic_number(n):\n",
    "    flag = False\n",
    "    for i in range(1,n+1):\n",
    "        if ((i*(i+1))==n):\n",
    "            flag = True\n",
    "            break\n",
    "    return flag\n",
    "            \n",
    "for i in range(1,101):\n",
    "    if(pronic_number(i)):\n",
    "        print(i)\n",
    "        print(\" \")"
   ]
  }
 ],
 "metadata": {
  "kernelspec": {
   "display_name": "Python 3 (ipykernel)",
   "language": "python",
   "name": "python3"
  },
  "language_info": {
   "codemirror_mode": {
    "name": "ipython",
    "version": 3
   },
   "file_extension": ".py",
   "mimetype": "text/x-python",
   "name": "python",
   "nbconvert_exporter": "python",
   "pygments_lexer": "ipython3",
   "version": "3.8.8"
  }
 },
 "nbformat": 4,
 "nbformat_minor": 5
}
