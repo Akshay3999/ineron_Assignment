{
 "cells": [
  {
   "cell_type": "markdown",
   "id": "9011d723",
   "metadata": {},
   "source": [
    "# 1. Write a Python Program to Add Two Matrices?"
   ]
  },
  {
   "cell_type": "code",
   "execution_count": 66,
   "id": "90c4f872",
   "metadata": {},
   "outputs": [
    {
     "name": "stdout",
     "output_type": "stream",
     "text": [
      "[11, 13, 15]\n",
      "[17, 19, 21]\n",
      "[23, 25, 27]\n"
     ]
    }
   ],
   "source": [
    "def add_matrices():\n",
    "    try: \n",
    "        a = [[1,2,3],[4,5,6],[7,8,9]]\n",
    "        b = [[10,11,12],[13,14,15],[16,17,18]]\n",
    "        output = [[0,0,0],[0,0,0],[0,0,0]]\n",
    "        for i in range(len(a)):\n",
    "            for j in range (len(b[0])):\n",
    "                output[i][j] = a[i][j] + b[i][j]\n",
    "                \n",
    "        for c in output:\n",
    "            print(c)\n",
    "            \n",
    "    except:\n",
    "        print(\"Addition of two matrices\")\n",
    "\n",
    "add_matrices()"
   ]
  },
  {
   "cell_type": "markdown",
   "id": "8b118417",
   "metadata": {},
   "source": [
    "# 2. Write a Python Program to Multiply Two Matrices?"
   ]
  },
  {
   "cell_type": "code",
   "execution_count": 39,
   "id": "b691159e",
   "metadata": {},
   "outputs": [
    {
     "name": "stdout",
     "output_type": "stream",
     "text": [
      "[84, 90, 96]\n",
      "[201, 216, 231]\n",
      "[318, 342, 366]\n"
     ]
    }
   ],
   "source": [
    "def M_matrix():\n",
    "    try:\n",
    "        a = [[1,2,3],[4,5,6],[7,8,9]]\n",
    "        b = [[10,11,12],[13,14,15],[16,17,18]]\n",
    "        output = [[0,0,0],[0,0,0],[0,0,0]]\n",
    "        \n",
    "        for i in range(len(a)):\n",
    "            for j in range(len(b[0])):\n",
    "                for k in range(len(b)):\n",
    "                    output[i][j]= output[i][j] + a[i][k] * b[k][j]\n",
    "                \n",
    "        for d in output:\n",
    "            print(d)\n",
    "            \n",
    "    except:\n",
    "        print(\"Multiplication of two matrics\")\n",
    "        \n",
    "M_matrix()"
   ]
  },
  {
   "cell_type": "markdown",
   "id": "8486af99",
   "metadata": {},
   "source": [
    "# 3. Write a Python Program to Transpose a Matrix?"
   ]
  },
  {
   "cell_type": "code",
   "execution_count": 58,
   "id": "b4fd651a",
   "metadata": {},
   "outputs": [
    {
     "name": "stdout",
     "output_type": "stream",
     "text": [
      "[1, 4, 7]\n",
      "[2, 5, 8]\n"
     ]
    }
   ],
   "source": [
    "def Transpose_matrix():\n",
    "    \n",
    "    try:\n",
    "        A = [[1,2],[4,5],[7,8]]\n",
    "    \n",
    "        output = [[0,0,0],[0,0,0]]\n",
    "        for i in range(len(A)):\n",
    "            for j in range(len(A[0])):\n",
    "                output[j][i] = A[i][j]\n",
    "        for final in output:\n",
    "            print(final)\n",
    "    except:\n",
    "        print(\"Transposing a matrix\"\n",
    "Transpose_matrix()"
   ]
  },
  {
   "cell_type": "markdown",
   "id": "16095f1a",
   "metadata": {},
   "source": [
    "# 4. Write a Python Program to Sort Words in Alphabetic Order?"
   ]
  },
  {
   "cell_type": "code",
   "execution_count": 64,
   "id": "8225aed5",
   "metadata": {},
   "outputs": [
    {
     "name": "stdout",
     "output_type": "stream",
     "text": [
      "Please enter a string : Human dog cat myhouse college \n",
      "The sorted words are : \n",
      "cat\n",
      "college\n",
      "dog\n",
      "human\n",
      "myhouse\n"
     ]
    }
   ],
   "source": [
    "def A_order():\n",
    "    \n",
    "    try:\n",
    "        my_string = input(\"Please enter a string : \")\n",
    "        words = [word.lower() for word in my_string.split()]\n",
    "        words.sort()\n",
    "        print(\"The sorted words are : \")\n",
    "    \n",
    "        for word in words:\n",
    "            print(word)\n",
    "    except:\n",
    "        print(\"Sorting of words in alphabetice manner\")\n",
    "A_order()"
   ]
  },
  {
   "cell_type": "markdown",
   "id": "8b6e0a26",
   "metadata": {},
   "source": [
    "# 5.  Write a Python Program to Remove Punctuation From a String?"
   ]
  },
  {
   "cell_type": "code",
   "execution_count": 65,
   "id": "ac1ccbdc",
   "metadata": {},
   "outputs": [
    {
     "name": "stdout",
     "output_type": "stream",
     "text": [
      "Please enter a string with punctuation marks : I, am, a, man\n",
      "I am a man\n"
     ]
    }
   ],
   "source": [
    "try:\n",
    "    punctuations = '''!()-[]{};:'\"\\,<>./?@#$%^&*_~'''\n",
    "    my_input_string = input(\"Please enter a string with punctuation marks : \")\n",
    "    \n",
    "    no_punctuation = \"\"\n",
    "    for character in my_input_string:\n",
    "        if character not in punctuations:\n",
    "            no_punctuation = no_punctuation + character\n",
    "    print(no_punctuation)\n",
    "    \n",
    "except:\n",
    "    print(\"Removing punctuation marks from a string\")"
   ]
  }
 ],
 "metadata": {
  "kernelspec": {
   "display_name": "Python 3",
   "language": "python",
   "name": "python3"
  },
  "language_info": {
   "codemirror_mode": {
    "name": "ipython",
    "version": 3
   },
   "file_extension": ".py",
   "mimetype": "text/x-python",
   "name": "python",
   "nbconvert_exporter": "python",
   "pygments_lexer": "ipython3",
   "version": "3.8.8"
  }
 },
 "nbformat": 4,
 "nbformat_minor": 5
}
