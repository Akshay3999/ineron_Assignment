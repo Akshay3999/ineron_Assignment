{
 "cells": [
  {
   "cell_type": "markdown",
   "id": "83b9f775",
   "metadata": {},
   "source": [
    "# Question1\n",
    "Create a function that takes an integer and returns a list from 1 to the given number, where:<br>\n",
    "1. If the number can be divided evenly by 4, amplify it by 10 (i.e. return 10 times the\n",
    "number).<br>\n",
    "2. If the number cannot be divided evenly by 4, simply return the number.<br>\n",
    "Examples<br>\n",
    "amplify(4) ➞ [1, 2, 3, 40]<br>\n",
    "amplify(3) ➞ [1, 2, 3]<br>\n",
    "amplify(25) ➞ [1, 2, 3, 40, 5, 6, 7, 80, 9, 10, 11, 120, 13, 14, 15, 160,\n",
    "17, 18, 19, 200, 21, 22, 23, 240, 25]<br>\n",
    "Notes<br>\n",
    " The given integer will always be equal to or greater than 1.<br>\n",
    " Include the number (see example above).\n",
    " To perform this problem with its intended purpose, try doing it with list\n",
    "comprehensions. If that&#39;s too difficult, just solve the challenge any way you can."
   ]
  },
  {
   "cell_type": "markdown",
   "id": "23f6683d",
   "metadata": {},
   "source": [
    "# Question2\n",
    "Create a function that takes a list of numbers and return the number that&#39;s unique.<br>\n",
    "Examples<br>\n",
    "unique([3, 3, 3, 7, 3, 3]) ➞ 7<br>\n",
    "unique([0, 0, 0.77, 0, 0]) ➞ 0.77<br>\n",
    "unique([0, 1, 1, 1, 1, 1, 1, 1]) ➞ 0<br>\n",
    "Notes<br>\n",
    "Test cases will always have exactly one unique number while all others are the same."
   ]
  },
  {
   "cell_type": "markdown",
   "id": "a6ec302d",
   "metadata": {},
   "source": [
    "# Question3\n",
    "Your task is to create a Circle constructor that creates a circle with a radius provided by an\n",
    "argument. The circles constructed must have two getters getArea() (PIr^2) and\n",
    "getPerimeter() (2PI*r) which give both respective areas and perimeter (circumference).<br>\n",
    "\n",
    "For help with this cla<br>ss, I have provided you with a Rectangle constructor which you can use\n",
    "as a base example.<br>\n",
    "Examples<br>\n",
    "circy = Circle(11)<br>\n",
    "circy.getArea()<br>\n",
    "#Should return 380.132711084365<br>\n",
    "circy = Circle(4.44)<br>\n",
    "circy.getPerimeter()<br>\n",
    "#Should return 27.897342763877365<br>\n",
    "Notes<br>\n",
    "Round results up to the nearest integer."
   ]
  },
  {
   "cell_type": "markdown",
   "id": "ecb813fb",
   "metadata": {},
   "source": [
    "# Question4\n",
    "Create a function that takes a list of strings and return a list, sorted from shortest to longest.<br>\n",
    "Examples<br>\n",
    "sort_by_length([&quot;Google&quot;, &quot;Apple&quot;, &quot;Microsoft&quot;])<br>\n",
    "➞ [&quot;Apple&quot;, &quot;Google&quot;, &quot;Microsoft&quot;]<br>\n",
    "sort_by_length([&quot;Leonardo&quot;, &quot;Michelangelo&quot;, &quot;Raphael&quot;, &quot;Donatello&quot;])<br>\n",
    "➞ [&quot;Raphael&quot;, &quot;Leonardo&quot;, &quot;Donatello&quot;, &quot;Michelangelo&quot;]<br>\n",
    "sort_by_length([&quot;Turing&quot;, &quot;Einstein&quot;, &quot;Jung&quot;])<br>\n",
    "➞ [&quot;Jung&quot;, &quot;Turing&quot;, &quot;Einstein&quot;]<br>\n",
    "Notes<br>\n",
    "All test cases contain lists with strings of different lengths, so you won&#39;t have to deal with\n",
    "multiple strings of the same length."
   ]
  },
  {
   "cell_type": "markdown",
   "id": "190727e6",
   "metadata": {},
   "source": [
    "# Question5\n",
    "Create a function that validates whether three given integers form a Pythagorean triplet. The\n",
    "sum of the squares of the two smallest integers must equal the square of the largest number to\n",
    "be validated.<br>\n",
    "\n",
    "Examples<br>\n",
    "is_triplet(3, 4, 5) ➞ True<br>\n",
    "#3² + 4² = 25<br>\n",
    "#5² = 25<br>\n",
    "is_triplet(13, 5, 12) ➞ True<br>\n",
    "#5² + 12² = 169<br>\n",
    "#13² = 169<br>\n",
    "is_triple<br>t(1, 2, 3) ➞ False<br>\n",
    "#1² + 2² = 5<br>\n",
    "#3² = 9<br>\n",
    "Notes<br>\n",
    "Numbers may not be given in a sorted order."
   ]
  },
  {
   "cell_type": "code",
   "execution_count": 1,
   "id": "269f6fd7",
   "metadata": {},
   "outputs": [
    {
     "name": "stdout",
     "output_type": "stream",
     "text": [
      "(3, 4, 5) ➞ True\n",
      "(3, 4, 5) ➞ True\n",
      "(1, 2, 3) ➞ False\n"
     ]
    }
   ],
   "source": [
    "def is_triplet(a,b,c):\n",
    "    if ((a**2+b**2) == (c**2)):\n",
    "        print(f'{a,b,c} ➞ {True}')\n",
    "    else:\n",
    "        print(f'{a,b,c} ➞ {False}')\n",
    "        \n",
    "is_triplet(3, 4, 5)\n",
    "is_triplet(3, 4, 5)\n",
    "is_triplet(1, 2, 3)"
   ]
  }
 ],
 "metadata": {
  "kernelspec": {
   "display_name": "Python 3 (ipykernel)",
   "language": "python",
   "name": "python3"
  },
  "language_info": {
   "codemirror_mode": {
    "name": "ipython",
    "version": 3
   },
   "file_extension": ".py",
   "mimetype": "text/x-python",
   "name": "python",
   "nbconvert_exporter": "python",
   "pygments_lexer": "ipython3",
   "version": "3.8.8"
  }
 },
 "nbformat": 4,
 "nbformat_minor": 5
}
