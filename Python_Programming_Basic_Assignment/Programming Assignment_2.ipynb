{
 "cells": [
  {
   "cell_type": "markdown",
   "id": "dada023a",
   "metadata": {},
   "source": [
    "# 1. Write a Python program to convert kilometers to miles?"
   ]
  },
  {
   "cell_type": "code",
   "execution_count": 3,
   "id": "58145dae",
   "metadata": {},
   "outputs": [
    {
     "name": "stdout",
     "output_type": "stream",
     "text": [
      "Enter kilometers :10\n",
      "10.000 kilometers is equal to 6.210 miles\n"
     ]
    }
   ],
   "source": [
    "kilometers = float(input(\"Enter kilometers :\"))\n",
    "conversionUnit = 0.621\n",
    "miles = kilometers * conversionUnit\n",
    "print(\"%0.3f kilometers is equal to %0.3f miles\"%(kilometers,miles))"
   ]
  },
  {
   "cell_type": "markdown",
   "id": "d19806f8",
   "metadata": {},
   "source": [
    "# 2. Write a Python program to convert Celsius to Fahrenheit?"
   ]
  },
  {
   "cell_type": "code",
   "execution_count": 4,
   "id": "f65a347f",
   "metadata": {},
   "outputs": [
    {
     "name": "stdout",
     "output_type": "stream",
     "text": [
      "Celsius : 10\n",
      "10.00 celsius is 50.00 fahrenheit\n"
     ]
    }
   ],
   "source": [
    "# Fahrenheit = celsius *(9/5) + 32\n",
    "\n",
    "celsius = float(input(\"Celsius : \"))\n",
    "fahrenheit = 9/5 * celsius + 32\n",
    "print(\"%0.2f celsius is %0.2f fahrenheit\"%(celsius,fahrenheit))"
   ]
  },
  {
   "cell_type": "markdown",
   "id": "fcd70787",
   "metadata": {},
   "source": [
    "# 3.Write a Python program to display calendar?"
   ]
  },
  {
   "cell_type": "code",
   "execution_count": 6,
   "id": "5cb80b36",
   "metadata": {},
   "outputs": [
    {
     "name": "stdout",
     "output_type": "stream",
     "text": [
      " Enter Year : 2022\n",
      "Enter Month : 04\n",
      "Calender\n",
      "     April 2022\n",
      "Mo Tu We Th Fr Sa Su\n",
      "             1  2  3\n",
      " 4  5  6  7  8  9 10\n",
      "11 12 13 14 15 16 17\n",
      "18 19 20 21 22 23 24\n",
      "25 26 27 28 29 30\n",
      "\n"
     ]
    }
   ],
   "source": [
    "import calendar\n",
    "\n",
    "y = int(input(\" Enter Year : \"))\n",
    "m = int(input(\"Enter Month : \"))\n",
    "\n",
    "try :\n",
    "    print(\"Calender\")\n",
    "    print(calendar.month(y,m))\n",
    "except:\n",
    "    print(\"Out of range\")"
   ]
  },
  {
   "cell_type": "markdown",
   "id": "289a41a4",
   "metadata": {},
   "source": [
    "# 4. Write a Python program to solve quadratic equation?\n",
    "\n",
    "-quadratic equation ax^2+bx+c=0\n",
    "a, b, c =   known numbers, where a ≠ 0\n",
    "x   =   the unknown\n",
    "- descriminant = b**2 - (4* a * c)\n",
    "- x1 = (-b-sqrt(d))/2 , x2 = (b-sqrt(d))/2"
   ]
  },
  {
   "cell_type": "code",
   "execution_count": 11,
   "id": "4a99f69a",
   "metadata": {},
   "outputs": [
    {
     "name": "stdout",
     "output_type": "stream",
     "text": [
      " Enter value of a : 3\n",
      " Enter value of b : 5\n",
      " Enter value of c : 9\n",
      "The roots are\n",
      "(-0.8333333333333334-1.51840559652405j)\n",
      "(-0.8333333333333334+1.51840559652405j)\n"
     ]
    }
   ],
   "source": [
    "# import complex math module\n",
    "import cmath\n",
    "  \n",
    "\n",
    "a = int(input(\" Enter value of a : \"))\n",
    "b = int(input(\" Enter value of b : \"))\n",
    "c = int(input(\" Enter value of c : \"))\n",
    "# calculating  the discriminant\n",
    "dis = (b**2) - (4 * a*c)\n",
    "  \n",
    "# find two results\n",
    "x1 = (-b-cmath.sqrt(dis))/(2 * a)\n",
    "x2 = (-b + cmath.sqrt(dis))/(2 * a)\n",
    "  \n",
    "# printing the results\n",
    "print('The roots are')\n",
    "print(x1)\n",
    "print(x2)"
   ]
  },
  {
   "cell_type": "markdown",
   "id": "d1ac25a4",
   "metadata": {},
   "source": [
    "# 5. Write a Python program to swap two variables without temp variable?"
   ]
  },
  {
   "cell_type": "code",
   "execution_count": 13,
   "id": "7b501606",
   "metadata": {},
   "outputs": [
    {
     "name": "stdout",
     "output_type": "stream",
     "text": [
      "Num1 : 2\n",
      "Num2 : 8\n",
      "Before swaping x = 2, y = 8\n",
      "After swaping x = 8, y = 2\n"
     ]
    }
   ],
   "source": [
    "x= int(input(\"Num1 : \"))\n",
    "y = int(input(\"Num2 : \"))\n",
    "print(\"Before swaping x = {}, y = {}\".format(x,y))\n",
    "#swaping :)\n",
    "y,x = x,y\n",
    "print(\"After swaping x = {}, y = {}\".format(x,y))"
   ]
  }
 ],
 "metadata": {
  "kernelspec": {
   "display_name": "Python 3",
   "language": "python",
   "name": "python3"
  },
  "language_info": {
   "codemirror_mode": {
    "name": "ipython",
    "version": 3
   },
   "file_extension": ".py",
   "mimetype": "text/x-python",
   "name": "python",
   "nbconvert_exporter": "python",
   "pygments_lexer": "ipython3",
   "version": "3.8.8"
  }
 },
 "nbformat": 4,
 "nbformat_minor": 5
}
