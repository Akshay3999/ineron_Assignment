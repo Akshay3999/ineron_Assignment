{
 "cells": [
  {
   "cell_type": "markdown",
   "id": "3c7e723e",
   "metadata": {},
   "source": [
    "# 1. Write a Python program to find sum of elements in list?"
   ]
  },
  {
   "cell_type": "code",
   "execution_count": 1,
   "id": "25065920",
   "metadata": {},
   "outputs": [
    {
     "name": "stdout",
     "output_type": "stream",
     "text": [
      "The given list is:\n",
      "[1, 2, 3, 4, 5, 6, 7, 8, 90, 10, 20, 44]\n",
      "Sum of the elements in the list is: 200\n"
     ]
    }
   ],
   "source": [
    "def sum_list():\n",
    "    myList  = [1,2,3,4,5,6,7,8,90,10,20,44]\n",
    "    print(\"The given list is:\")\n",
    "    print(myList)\n",
    "    \n",
    "    list_length = len(myList)\n",
    "    SumOfList = 0\n",
    "    count = 0\n",
    "    \n",
    "    while count < list_length:\n",
    "        SumOfList = SumOfList + myList[count]\n",
    "        count = count + 1\n",
    "        \n",
    "    print(\"Sum of the elements in the list is:\", SumOfList)\n",
    "    \n",
    "sum_list()"
   ]
  },
  {
   "cell_type": "markdown",
   "id": "e92d475a",
   "metadata": {},
   "source": [
    "# 2. Write a Python program to Multiply all numbers in the list?"
   ]
  },
  {
   "cell_type": "code",
   "execution_count": 2,
   "id": "96e6877a",
   "metadata": {},
   "outputs": [
    {
     "name": "stdout",
     "output_type": "stream",
     "text": [
      "The given list is:\n",
      "[9, 8, 7, 6, 5, 4, 3, 2, 1, 10]\n"
     ]
    },
    {
     "data": {
      "text/plain": [
       "3628800"
      ]
     },
     "execution_count": 2,
     "metadata": {},
     "output_type": "execute_result"
    }
   ],
   "source": [
    "def MultiplyList():\n",
    "    myList = [9,8,7,6,5,4,3,2,1,10]\n",
    "    print(\"The given list is:\")\n",
    "    print(myList)\n",
    "    \n",
    "    result = 1\n",
    "    \n",
    "    for i in myList:\n",
    "        result = result * i\n",
    "        \n",
    "    return result\n",
    "    \n",
    "    \n",
    "    \n",
    "MultiplyList()"
   ]
  },
  {
   "cell_type": "markdown",
   "id": "4dfbdcb2",
   "metadata": {},
   "source": [
    "# 3.Write a Python program to find smallest number in a list? -->"
   ]
  },
  {
   "cell_type": "code",
   "execution_count": 3,
   "id": "24cf3d27",
   "metadata": {},
   "outputs": [
    {
     "name": "stdout",
     "output_type": "stream",
     "text": [
      "Please enter the total Number in List: 8\n",
      "Please enter the value of 1 Element: 98\n",
      "Please enter the value of 2 Element: 6\n",
      "Please enter the value of 3 Element: 56\n",
      "Please enter the value of 4 Element: 44\n",
      "Please enter the value of 5 Element: 34\n",
      "Please enter the value of 6 Element: 23\n",
      "Please enter the value of 7 Element: 12\n",
      "Please enter the value of 8 Element: 34\n",
      "The smallest Element in the List is:  6\n"
     ]
    }
   ],
   "source": [
    "# Python Program to find Smallest Number in List\n",
    "def SmallestNoList():\n",
    "    NumList = []\n",
    "    Number = int(input(\"Please enter the total Number in List: \"))\n",
    "    \n",
    "    for i in range(1, Number +1):\n",
    "        value = int(input(\"Please enter the value of %d Element: \"%i))\n",
    "        NumList.append(value)\n",
    "        \n",
    "    print(\"The smallest Element in the List is: \", min(NumList))\n",
    "    \n",
    "SmallestNoList()\n",
    "    "
   ]
  },
  {
   "cell_type": "markdown",
   "id": "fca556d6",
   "metadata": {},
   "source": [
    "# 4. Write a Python program to find largest number in a list?"
   ]
  },
  {
   "cell_type": "code",
   "execution_count": 4,
   "id": "fb780e40",
   "metadata": {},
   "outputs": [
    {
     "name": "stdout",
     "output_type": "stream",
     "text": [
      "Please enter the total Number in List: 5\n",
      "Please enter the value of 1 Element: 100\n",
      "Please enter the value of 2 Element: 104\n",
      "Please enter the value of 3 Element: 102\n",
      "Please enter the value of 4 Element: 109\n",
      "Please enter the value of 5 Element: 107\n",
      "The largest Element in the List is:  109\n"
     ]
    }
   ],
   "source": [
    "# Python Program to find largest Number in List\n",
    "def SmallestNoList():\n",
    "    NumList = []\n",
    "    Number = int(input(\"Please enter the total Number in List: \"))\n",
    "    \n",
    "    for i in range(1, Number +1):\n",
    "        value = int(input(\"Please enter the value of %d Element: \"%i))\n",
    "        NumList.append(value)\n",
    "        \n",
    "    print(\"The largest Element in the List is: \", max(NumList))\n",
    "    \n",
    "SmallestNoList()"
   ]
  },
  {
   "cell_type": "markdown",
   "id": "b78635ee",
   "metadata": {},
   "source": [
    "# 5. Write a Python program to find second largest number in a list?"
   ]
  },
  {
   "cell_type": "code",
   "execution_count": 5,
   "id": "273b5f0b",
   "metadata": {},
   "outputs": [
    {
     "name": "stdout",
     "output_type": "stream",
     "text": [
      "Enter length of list:8\n",
      "Enter ELement: 101\n",
      "Enter ELement: 100\n",
      "Enter ELement: 98\n",
      "Enter ELement: 97\n",
      "Enter ELement: 90\n",
      "Enter ELement: 79\n",
      "Enter ELement: 32\n",
      "Enter ELement: 21\n",
      "[101, 100, 98, 97, 90, 79, 32, 21]\n",
      "second Largest Element of list is: 100\n"
     ]
    }
   ],
   "source": [
    "l  = []\n",
    "n = int(input(\"Enter length of list:\"))\n",
    "\n",
    "for i in range(1,n+1):\n",
    "    e = int(input(\"Enter ELement: \"))\n",
    "    l.append(e)\n",
    "    \n",
    "print(l)\n",
    "l.sort()\n",
    "print(\"second Largest Element of list is:\",l[n-2])"
   ]
  },
  {
   "cell_type": "markdown",
   "id": "a8ea2717",
   "metadata": {},
   "source": [
    "## 6. Write a Python program to find N largest elements from a list?"
   ]
  },
  {
   "cell_type": "code",
   "execution_count": 6,
   "id": "b8ab264b",
   "metadata": {},
   "outputs": [
    {
     "name": "stdout",
     "output_type": "stream",
     "text": [
      "Largest numbers =  [101]\n"
     ]
    }
   ],
   "source": [
    "def LargestFunc(list1, N):\n",
    "    new_list = []\n",
    "    for i in range(0, N):\n",
    "        max1 = 0\n",
    "        for j in range(len(list1)):\n",
    "            if list1[j] > max1:\n",
    "                max1 = list1[j]\n",
    "\n",
    "        list1.remove(max1)\n",
    "        new_list.append(max1)\n",
    "    print(\"Largest numbers = \",new_list)\n",
    "\n",
    "# Driver code\n",
    "my_list = [12, 101, 41, 85, 40, 13, 77, 65, 100]\n",
    "N = 1\n",
    "\n",
    "# Calling the function\n",
    "LargestFunc(my_list, N)"
   ]
  },
  {
   "cell_type": "markdown",
   "id": "4ad1fdcc",
   "metadata": {},
   "source": [
    "# 7. Write a Python program to print even numbers in a list?"
   ]
  },
  {
   "cell_type": "code",
   "execution_count": 7,
   "id": "5d54e8d8",
   "metadata": {},
   "outputs": [
    {
     "name": "stdout",
     "output_type": "stream",
     "text": [
      "Enter Number of List Value 5\n",
      "Enter List Element 1\n",
      "Enter List Element 2\n",
      "Enter List Element 3\n",
      "Enter List Element 4\n",
      "Enter List Element 5\n",
      "1  Is a odd Number \n",
      "2 Is a Even Number \n",
      "3  Is a odd Number \n",
      "4 Is a Even Number \n",
      "5  Is a odd Number \n"
     ]
    }
   ],
   "source": [
    "num = []\n",
    "n = int(input(\"Enter Number of List Value \"))\n",
    "for i in range(0,n):\n",
    "    i = int(input(\"Enter List Element \"))\n",
    "    num.append(i)\n",
    "\n",
    "for i in num:\n",
    "    if i%2 ==0:\n",
    "        print(i, \"Is a Even Number \")\n",
    "        \n",
    "    else:\n",
    "        print(i,\" Is a odd Number \")"
   ]
  },
  {
   "cell_type": "markdown",
   "id": "88328379",
   "metadata": {},
   "source": [
    "# 8. Write a Python program to print odd numbers in a List?"
   ]
  },
  {
   "cell_type": "code",
   "execution_count": 8,
   "id": "c5832f75",
   "metadata": {},
   "outputs": [
    {
     "name": "stdout",
     "output_type": "stream",
     "text": [
      "Enter number of List value6\n",
      "Enter List Element 7\n",
      "Enter List Element 8\n",
      "Enter List Element 9\n",
      "Enter List Element 0\n",
      "Enter List Element 5\n",
      "Enter List Element 4\n",
      "7 Is a Odd Number \n",
      "8  Is a Even Number\n",
      "9 Is a Odd Number \n",
      "0  Is a Even Number\n",
      "5 Is a Odd Number \n",
      "4  Is a Even Number\n"
     ]
    }
   ],
   "source": [
    "num = []\n",
    "n = int(input(\"Enter number of List value\"))\n",
    "for i in range(0,n):\n",
    "    i = int(input(\"Enter List Element \"))\n",
    "    num.append(i)\n",
    "    \n",
    "for i in num:\n",
    "    if i%2 != 0:\n",
    "        print(i, \"Is a Odd Number \")\n",
    "        \n",
    "    else :\n",
    "        print(i, \" Is a Even Number\")"
   ]
  },
  {
   "cell_type": "markdown",
   "id": "984514b5",
   "metadata": {},
   "source": [
    "# 9. Write a Python program to Remove empty List from List?"
   ]
  },
  {
   "cell_type": "code",
   "execution_count": 9,
   "id": "2a638d19",
   "metadata": {},
   "outputs": [
    {
     "name": "stdout",
     "output_type": "stream",
     "text": [
      "The original list is : [5, 6, [], 3, [], [], 9]\n",
      "List after empty list removal : [5, 6, 3, 9]\n"
     ]
    }
   ],
   "source": [
    "def empty_list_remove(input_list):\n",
    "    new_list = []\n",
    "    for ele in input_list:\n",
    "        if ele:\n",
    "            new_list.append(ele)\n",
    "    return new_list\n",
    " \n",
    "input_list = [5, 6, [], 3, [], [], 9]\n",
    " \n",
    "# print initial list values\n",
    "print(f\"The original list is : {input_list}\")\n",
    "\n",
    "# function-call & print values\n",
    "print(f\"List after empty list removal : {empty_list_remove(input_list)}\")"
   ]
  },
  {
   "cell_type": "markdown",
   "id": "63c1dd07",
   "metadata": {},
   "source": [
    "# 10. Write a Python program to Cloning or Copying a list?"
   ]
  },
  {
   "cell_type": "code",
   "execution_count": 10,
   "id": "ddd9af47",
   "metadata": {},
   "outputs": [
    {
     "name": "stdout",
     "output_type": "stream",
     "text": [
      "Original List: [4, 8, 2, 10, 15, 18]\n",
      "After Cloning: [4, 8, 2, 10, 15, 18]\n"
     ]
    }
   ],
   "source": [
    "def Cloning(li1):\n",
    "    li_copy = li1\n",
    "    return li_copy\n",
    "\n",
    "li1 = [4, 8, 2, 10, 15, 18]\n",
    "li2 = Cloning(li1)\n",
    "print(\"Original List:\", li1)\n",
    "print(\"After Cloning:\", li2)"
   ]
  },
  {
   "cell_type": "markdown",
   "id": "3f46783b",
   "metadata": {},
   "source": [
    "# 11. Write a Python program to Count occurrences of an element in a list?"
   ]
  },
  {
   "cell_type": "code",
   "execution_count": 11,
   "id": "31f5b644",
   "metadata": {},
   "outputs": [
    {
     "name": "stdout",
     "output_type": "stream",
     "text": [
      "13 has occurred 1 times\n"
     ]
    }
   ],
   "source": [
    "def countX(lst, x):\n",
    "    count = 0\n",
    "    for i in lst:\n",
    "        if (i == x):\n",
    "            count = count +1\n",
    "    return count\n",
    "\n",
    "lst = [1,2,3,4,5,6,1,2,3,4,5,6,5,4,5,6,13]\n",
    "\n",
    "x = 13\n",
    "\n",
    "print('{} has occurred {} times'.format(x,countX(lst,x)))"
   ]
  }
 ],
 "metadata": {
  "kernelspec": {
   "display_name": "Python 3 (ipykernel)",
   "language": "python",
   "name": "python3"
  },
  "language_info": {
   "codemirror_mode": {
    "name": "ipython",
    "version": 3
   },
   "file_extension": ".py",
   "mimetype": "text/x-python",
   "name": "python",
   "nbconvert_exporter": "python",
   "pygments_lexer": "ipython3",
   "version": "3.8.8"
  }
 },
 "nbformat": 4,
 "nbformat_minor": 5
}
