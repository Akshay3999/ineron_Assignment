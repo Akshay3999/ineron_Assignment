{
 "cells": [
  {
   "cell_type": "markdown",
   "id": "bfd0b6fe",
   "metadata": {},
   "source": [
    "# 1. Write a Python program to Extract Unique values dictionary values?"
   ]
  },
  {
   "cell_type": "code",
   "execution_count": 1,
   "id": "becdf469",
   "metadata": {},
   "outputs": [
    {
     "name": "stdout",
     "output_type": "stream",
     "text": [
      "Sultan\n",
      "Pavan\n",
      "Swami\n",
      "Akshay\n"
     ]
    }
   ],
   "source": [
    "# find Unique values dictionary values\n",
    "def Unique_values():\n",
    "    \n",
    "    Dict = {1:'Akshay',\n",
    "           2:'Swami',\n",
    "           3:'Pavan',\n",
    "           4:'Sultan',\n",
    "           5:'Pavan'}\n",
    "    \n",
    "    for language in list(set(Dict.values())):\n",
    "        print(language)\n",
    "\n",
    "a = Unique_values()\n",
    "a"
   ]
  },
  {
   "cell_type": "markdown",
   "id": "52687f3a",
   "metadata": {},
   "source": [
    "# 2. Write a Python program to find the sum of all items in a dictionary?"
   ]
  },
  {
   "cell_type": "code",
   "execution_count": 2,
   "id": "ce377f75",
   "metadata": {},
   "outputs": [
    {
     "name": "stdout",
     "output_type": "stream",
     "text": [
      "('sum of all the items in diactionary:', 1000)\n"
     ]
    }
   ],
   "source": [
    "def returnsum(myDict):\n",
    "    \n",
    "    # create empty list to append all dict values\n",
    "    list= []\n",
    "    \n",
    "    # sum of all the values total\n",
    "    total = 0\n",
    "    \n",
    "    # Iterate each values in list\n",
    "    for i in myDict:\n",
    "        list.append(myDict[i])\n",
    "    \n",
    "    # add them in variable total\n",
    "    for ele in range(0,len(list)):\n",
    "        total = total + list[ele]\n",
    "    \n",
    "    return 'sum of all the items in diactionary:', total\n",
    "\n",
    "# Driver function\n",
    "Dict = {'A':100, 'B':200, 'C':300,'D':400}\n",
    "\n",
    "print(returnsum(Dict))"
   ]
  },
  {
   "cell_type": "markdown",
   "id": "ac70ab41",
   "metadata": {},
   "source": [
    "# 3. Write a Python program to Merging two Dictionaries?"
   ]
  },
  {
   "cell_type": "code",
   "execution_count": 3,
   "id": "1d002065",
   "metadata": {},
   "outputs": [
    {
     "name": "stdout",
     "output_type": "stream",
     "text": [
      "First Dictionary {'a': 'Allu Arjun', 'B': 'Bahu kadam', 'k': 'Krish', 'D': 'Doremoan'}\n",
      "Second Dictionary {'p': 'Python', 'ML': 'Machine leraning'}\n",
      "\n",
      "After Concatenating two Dictionaries: \n",
      "{'a': 'Allu Arjun', 'B': 'Bahu kadam', 'k': 'Krish', 'D': 'Doremoan', 'p': 'Python', 'ML': 'Machine leraning'}\n"
     ]
    }
   ],
   "source": [
    "# Python program to Merging two Dictionaries\n",
    "\n",
    "def Merge_Dictionaries(first,second):\n",
    "    result = {**first,**second}\n",
    "    return result \n",
    "    \n",
    "first_Dict = {'a': 'Allu Arjun', 'B': 'Bahu kadam', 'k':'Krish', 'D':\"Doremoan\" }\n",
    "second_Dict = {'p':'Python', 'ML': 'Machine leraning'}\n",
    "print(\"First Dictionary\", first_Dict)\n",
    "print(\"Second Dictionary\", second_Dict)\n",
    "\n",
    "# Concatenate Two Dictionary in python\n",
    "third_Dict = Merge_Dictionaries(first_Dict, second_Dict)\n",
    "\n",
    "print(\"\\nAfter Concatenating two Dictionaries: \")\n",
    "print(third_Dict)"
   ]
  },
  {
   "cell_type": "markdown",
   "id": "240ed745",
   "metadata": {},
   "source": [
    "# 4. Write a Python program to convert key-values list to flat dictionary?"
   ]
  },
  {
   "cell_type": "code",
   "execution_count": 4,
   "id": "5f24dc90",
   "metadata": {},
   "outputs": [
    {
     "name": "stdout",
     "output_type": "stream",
     "text": [
      "Original Diat:  {'Month': [1, 2, 3], 'name': ['jan', 'feb', 'march']}\n",
      "\n",
      " <class 'dict'>\n"
     ]
    }
   ],
   "source": [
    "# Convert key-values list to flat dictionaries\n",
    "\n",
    "# Create Dict\n",
    "Dict = {'Month':[1,2,3],'name':['jan', 'feb','march']}\n",
    "\n",
    "# Printing Original Dict\n",
    "print(\"Original Diat: \", Dict)\n",
    "\n",
    "# Convert key values list to flat dict\n",
    "x = list(Dict.values())\n",
    "a = x[0]\n",
    "b = x[1]\n",
    "\n",
    "# The magic function (__call__) is not defined or is absent. \n",
    "# The absence of this magic function is what made our dictionary uncallable. \n",
    "# Thus the dictionary object can not be invoked using parenthesis( ).\n",
    "\n",
    "d = dict\n",
    "\n",
    "for i in range(0,len(a)):\n",
    "    x=a[i] = b[i] \n",
    "    [d].append(x)\n",
    "# Printing result\n",
    "print(\"\\n\",d)"
   ]
  },
  {
   "cell_type": "markdown",
   "id": "55a9e0ad",
   "metadata": {},
   "source": [
    "# 5. Write a Python program to insertion at the beginning in OrderedDict?"
   ]
  },
  {
   "cell_type": "code",
   "execution_count": 5,
   "id": "991550cd",
   "metadata": {},
   "outputs": [
    {
     "name": "stdout",
     "output_type": "stream",
     "text": [
      "Final OrderedDict: OrderedDict([('E', '500'), ('A', '100'), ('B', '200'), ('c', '300'), ('d', '400')])\n"
     ]
    }
   ],
   "source": [
    "from collections import OrderedDict\n",
    "\n",
    "dict1 = OrderedDict([('A','100'),('B','200'),('c','300'),('d','400')])\n",
    "insert = OrderedDict([('E','500')])\n",
    "\n",
    "Final = OrderedDict(list(insert.items())+ list(dict1.items()))\n",
    "\n",
    "# print result\n",
    "\n",
    "print(\"Final OrderedDict:\",Final)"
   ]
  },
  {
   "cell_type": "markdown",
   "id": "3387e562",
   "metadata": {},
   "source": [
    "# 6.Write a Python program to check order of character in string using OrderedDict()?"
   ]
  },
  {
   "cell_type": "code",
   "execution_count": 6,
   "id": "2b525b4f",
   "metadata": {},
   "outputs": [
    {
     "name": "stdout",
     "output_type": "stream",
     "text": [
      "true\n"
     ]
    }
   ],
   "source": [
    "from collections import OrderedDict \n",
    "  \n",
    "def checkOrder(input, pattern): \n",
    "      \n",
    "    dict = OrderedDict.fromkeys(input) \n",
    "  \n",
    "    ptrlen = 0\n",
    "    for key,value in dict.items(): \n",
    "        if (key == pattern[ptrlen]): \n",
    "            ptrlen = ptrlen + 1\n",
    "           \n",
    "        if (ptrlen == (len(pattern))): \n",
    "            return 'true'\n",
    "  \n",
    "    return 'false'\n",
    "  \n",
    "if __name__ == \"__main__\": \n",
    "    input = 'engineers rock'\n",
    "    pattern = 'er'\n",
    "    print (checkOrder(input,pattern)) "
   ]
  },
  {
   "cell_type": "markdown",
   "id": "be16c659",
   "metadata": {},
   "source": [
    "# 7. Write a Python program to sort Python Dictionaries by Key or Value?"
   ]
  },
  {
   "cell_type": "code",
   "execution_count": 7,
   "id": "54e72e80",
   "metadata": {},
   "outputs": [
    {
     "name": "stdout",
     "output_type": "stream",
     "text": [
      "alan: 2\n",
      "bob: 1\n",
      "carl: 40\n",
      "danny: 3\n"
     ]
    }
   ],
   "source": [
    "mydict = {'carl':40,\n",
    "          'alan':2,\n",
    "          'bob':1,\n",
    "          'danny':3}\n",
    "\n",
    "for key in sorted(mydict):\n",
    "    print (\"%s: %s\" % (key, mydict[key]))"
   ]
  }
 ],
 "metadata": {
  "kernelspec": {
   "display_name": "Python 3 (ipykernel)",
   "language": "python",
   "name": "python3"
  },
  "language_info": {
   "codemirror_mode": {
    "name": "ipython",
    "version": 3
   },
   "file_extension": ".py",
   "mimetype": "text/x-python",
   "name": "python",
   "nbconvert_exporter": "python",
   "pygments_lexer": "ipython3",
   "version": "3.8.8"
  }
 },
 "nbformat": 4,
 "nbformat_minor": 5
}
