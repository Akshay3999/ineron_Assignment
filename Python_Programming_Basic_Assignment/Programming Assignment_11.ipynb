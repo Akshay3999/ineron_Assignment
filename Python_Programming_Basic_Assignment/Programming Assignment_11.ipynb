{
 "cells": [
  {
   "cell_type": "markdown",
   "id": "38319753",
   "metadata": {},
   "source": [
    "# 1. Write a Python program to find words which are greater than given length k?"
   ]
  },
  {
   "cell_type": "code",
   "execution_count": 1,
   "id": "0825552f",
   "metadata": {},
   "outputs": [
    {
     "name": "stdout",
     "output_type": "stream",
     "text": [
      "['name']\n"
     ]
    }
   ],
   "source": [
    "def String_A(k, str):\n",
    "    \n",
    "    # Create the empty string\n",
    "    string=[]\n",
    "    \n",
    "    # Split the string using split function\n",
    "    text = str.split()\n",
    "    \n",
    "    for i in text:\n",
    "        \n",
    "        # such the string len(string len are > K then call the function)\n",
    "        if len(i) > k:\n",
    "            \n",
    "            # these string are the > K then append the string in empty string\n",
    "            string.append(i)\n",
    "            \n",
    "      # return string in a list\n",
    "    return string\n",
    "\n",
    "a = String_A(3, \"my name is jak\")\n",
    "\n",
    "print(a)"
   ]
  },
  {
   "cell_type": "markdown",
   "id": "5e669a30",
   "metadata": {},
   "source": [
    "# 2. Write a Python program for removing i-th character from a string?"
   ]
  },
  {
   "cell_type": "code",
   "execution_count": 2,
   "id": "a43773ea",
   "metadata": {
    "scrolled": true
   },
   "outputs": [
    {
     "name": "stdout",
     "output_type": "stream",
     "text": [
      "Enter the string : python is best language\n",
      "Enter i_th character to remove: 13\n",
      "Enter string: python is best language\n",
      "string formed by removing i_th charecter: python is bes language\n"
     ]
    }
   ],
   "source": [
    "mystr = input('Enter the string : ')\n",
    "i = int(input('Enter i_th character to remove: '))\n",
    "\n",
    "resStr= \"\"\n",
    "\n",
    "for k in range(len(mystr)):\n",
    "    \n",
    "    if k != i:\n",
    "        resStr= resStr + mystr[k]\n",
    "        \n",
    "# printing all the string\n",
    "\n",
    "print(\"Enter string: \" + mystr)\n",
    "print(\"string formed by removing i_th charecter: \" + resStr)"
   ]
  },
  {
   "cell_type": "markdown",
   "id": "e835c6c0",
   "metadata": {},
   "source": [
    "# 3. Write a Python program to split and join a string?"
   ]
  },
  {
   "cell_type": "code",
   "execution_count": 4,
   "id": "da6b68b5",
   "metadata": {},
   "outputs": [
    {
     "name": "stdout",
     "output_type": "stream",
     "text": [
      "['this', 'is', 'split', 'and', 'join', 'function']\n",
      "this is split and join function\n"
     ]
    }
   ],
   "source": [
    "def split_string(string):\n",
    "    \n",
    "    split = string.split(' ')\n",
    "    \n",
    "    return split\n",
    "\n",
    "def join_string(list_string):\n",
    "    \n",
    "    join = ' '.join(list_string)\n",
    "    \n",
    "    return join\n",
    "\n",
    "if __name__ == '__main__':\n",
    "    string = 'this is split and join function'\n",
    "\n",
    "# Splitting a string\n",
    "    list_string = split_string(string)\n",
    "    print(list_string)\n",
    "    \n",
    "# Join list of strings into one\n",
    "    new_string = join_string(list_string)\n",
    "    print(new_string)"
   ]
  },
  {
   "cell_type": "markdown",
   "id": "c83b21fe",
   "metadata": {},
   "source": [
    "# 4. Write a Python to check if a given string is binary string or not?"
   ]
  },
  {
   "cell_type": "code",
   "execution_count": 5,
   "id": "1cf1775c",
   "metadata": {},
   "outputs": [
    {
     "name": "stdout",
     "output_type": "stream",
     "text": [
      "Enter the Number: 123457\n",
      "The number is not Binary\n"
     ]
    }
   ],
   "source": [
    "x = int(input('Enter the Number: '))\n",
    "\n",
    "if x >0:\n",
    "    y = x % 10\n",
    "    if y!=0 and y!=1:\n",
    "        print(\"The number is not Binary\")\n",
    "        \n",
    "    else:\n",
    "        print(\"The number is Binary\")\n",
    "        \n",
    "k = x//10\n",
    "\n",
    "if k == 0:\n",
    "    print('The is Binary')"
   ]
  },
  {
   "cell_type": "markdown",
   "id": "af3bb4e2",
   "metadata": {},
   "source": [
    "# 5. Write a Python program to find uncommon words from two Strings?"
   ]
  },
  {
   "cell_type": "code",
   "execution_count": 6,
   "id": "17c1cb13",
   "metadata": {},
   "outputs": [
    {
     "name": "stdout",
     "output_type": "stream",
     "text": [
      "['Welcome', 'to']\n"
     ]
    }
   ],
   "source": [
    "def uncommon_words(s1, s2):\n",
    "    count = {}\n",
    "    for word in s1.split():\n",
    "        count[word] = count.get(word, 0) + 1\n",
    "    # words of string s2\n",
    "    for word in s2.split():\n",
    "        count[word] = count.get(word, 0) + 1\n",
    "    # return required list of words\n",
    "    return [word for word in count if count[word] == 1]\n",
    "\n",
    "s1=\"Studytonight\"\n",
    "s2=\"Welcome to Studytonight\"\n",
    "  \n",
    "# Print required answer\n",
    "print(uncommon_words(s1, s2))"
   ]
  },
  {
   "cell_type": "markdown",
   "id": "0eabe00e",
   "metadata": {},
   "source": [
    "# 6. Write a Python to find all duplicate characters in string?"
   ]
  },
  {
   "cell_type": "code",
   "execution_count": 7,
   "id": "443ed073",
   "metadata": {},
   "outputs": [
    {
     "name": "stdout",
     "output_type": "stream",
     "text": [
      "t\n",
      " \n",
      "s\n"
     ]
    }
   ],
   "source": [
    "from collections import Counter\n",
    " \n",
    "def find_dup_char(input):\n",
    " \n",
    "    # now create dictionary using counter method\n",
    "    # which will have strings as key and their\n",
    "    # frequencies as value\n",
    "    WC = Counter(input)\n",
    " \n",
    "    # Finding no. of  occurrence of a character\n",
    "    # and get the index of it.\n",
    "    for letter, count in WC.items():\n",
    "        if (count > 1):\n",
    "            print(letter)\n",
    " \n",
    " \n",
    "# Driver program\n",
    "if __name__ == \"__main__\":\n",
    "    input = 'Python is best'\n",
    "    find_dup_char(input)"
   ]
  },
  {
   "cell_type": "markdown",
   "id": "571d0579",
   "metadata": {},
   "source": [
    "# 7. Write a Python Program to check if a string contains any special character?"
   ]
  },
  {
   "cell_type": "code",
   "execution_count": 9,
   "id": "f4d8f755",
   "metadata": {},
   "outputs": [
    {
     "name": "stdout",
     "output_type": "stream",
     "text": [
      "The string is :\n",
      "PythonInterpreter\n",
      "String contains special characters.\n"
     ]
    }
   ],
   "source": [
    "import re\n",
    "\n",
    "def check_string(my_string):\n",
    "    \n",
    "    regex = re.compile('[@_!#$%^&*()<>?/\\|}{~:]')\n",
    "    if(regex.search(my_string) == None):\n",
    "        print(\"String contains special characters.\")\n",
    "    else:\n",
    "        print(\"String does not contain any special character.\")\n",
    "\n",
    "my_string = \"PythonInterpreter\"\n",
    "print(\"The string is :\")\n",
    "print(my_string)\n",
    "check_string(my_string)"
   ]
  }
 ],
 "metadata": {
  "kernelspec": {
   "display_name": "Python 3 (ipykernel)",
   "language": "python",
   "name": "python3"
  },
  "language_info": {
   "codemirror_mode": {
    "name": "ipython",
    "version": 3
   },
   "file_extension": ".py",
   "mimetype": "text/x-python",
   "name": "python",
   "nbconvert_exporter": "python",
   "pygments_lexer": "ipython3",
   "version": "3.8.8"
  }
 },
 "nbformat": 4,
 "nbformat_minor": 5
}
