{
 "cells": [
  {
   "cell_type": "markdown",
   "id": "2f3f9aee",
   "metadata": {},
   "source": [
    "# 1. Write a Python Program to Display Fibonacci Sequence Using Recursion?"
   ]
  },
  {
   "cell_type": "code",
   "execution_count": 9,
   "id": "b3bff2bf",
   "metadata": {},
   "outputs": [
    {
     "name": "stdout",
     "output_type": "stream",
     "text": [
      "Enter how many terms you want to print of Fibonacci Sequence: 5\n",
      "\n",
      "Fibonacci Sequence: \n",
      "0\n",
      "1\n",
      "1\n",
      "2\n",
      "3\n"
     ]
    }
   ],
   "source": [
    "def fib_recursion(num):\n",
    "    if num==0:\n",
    "        return 0\n",
    "    elif num==1:\n",
    "        return 1\n",
    "    else:\n",
    "        return (fib_recursion(num-1) + fib_recursion(num-2))\n",
    "    \n",
    "n_terms = int(input(\"Enter how many terms you want to print of Fibonacci Sequence: \"))\n",
    "if n_terms <= 0:\n",
    "    print(\"\\nPlease enter a positive integer\")\n",
    "else:\n",
    "    print(\"\\nFibonacci Sequence: \")\n",
    "    for i in range(n_terms):\n",
    "        print(fib_recursion(i))"
   ]
  },
  {
   "cell_type": "markdown",
   "id": "04fcbb6e",
   "metadata": {},
   "source": [
    "# 2. Write a Python Program to Find Factorial of Number Using Recursion?"
   ]
  },
  {
   "cell_type": "code",
   "execution_count": 16,
   "id": "2a899631",
   "metadata": {},
   "outputs": [
    {
     "name": "stdout",
     "output_type": "stream",
     "text": [
      "Enter the number to find its factorial: 12\n",
      "The factorial of 12 is: 479001600\n"
     ]
    }
   ],
   "source": [
    "def factorial(n):\n",
    "    if n == 1:\n",
    "            return 1\n",
    "    else:\n",
    "        return n * factorial(n-1)\n",
    "\n",
    "num = int(input(\"Enter the number to find its factorial: \"))\n",
    "result = factorial(num)\n",
    "print(f\"The factorial of {num} is: {result}\")"
   ]
  },
  {
   "cell_type": "markdown",
   "id": "9eae14ca",
   "metadata": {},
   "source": [
    "# 3. Write a Python Program to calculate your Body Mass Index?"
   ]
  },
  {
   "cell_type": "code",
   "execution_count": 21,
   "id": "e91c7498",
   "metadata": {},
   "outputs": [
    {
     "name": "stdout",
     "output_type": "stream",
     "text": [
      "Enter your height in cm: 1.6\n",
      "Entrt your weight in kg: 55\n",
      "Your BMI is: 0.625 and you are: underweight\n"
     ]
    }
   ],
   "source": [
    "Height = float(input(\"Enter your height in cm: \"))\n",
    "Weight = float(input(\"Entrt your weight in kg: \"))\n",
    "\n",
    "bmi = Weight/(Weight*Height)\n",
    "\n",
    "if (bmi < 18.5):\n",
    "    health = \"underweight\"\n",
    "    \n",
    "elif (bmi >=18.5 and bmi < 25):\n",
    "    health = \"healthy\"\n",
    "    \n",
    "elif (bmi >=25 and bmi < 30):\n",
    "    health = \"overweight\"\n",
    "    \n",
    "elif (bmi >=30 and  bmi < 40):\n",
    "    health = \"obesity\"\n",
    "    \n",
    "elif (bmi >= 40):\n",
    "    health = \"severe obesity\"\n",
    "    \n",
    "print(f\"Your BMI is: {bmi} and you are: {health}\")"
   ]
  },
  {
   "cell_type": "markdown",
   "id": "3a82f812",
   "metadata": {},
   "source": [
    "# 4. Write a Python Program to calculate the natural logarithm of any number?"
   ]
  },
  {
   "cell_type": "code",
   "execution_count": 24,
   "id": "05350784",
   "metadata": {},
   "outputs": [
    {
     "name": "stdout",
     "output_type": "stream",
     "text": [
      "Enter the number: 16\n",
      "\n",
      "log(16.0) : 2.772588722239781\n"
     ]
    }
   ],
   "source": [
    "import math\n",
    "\n",
    "def natural_log(number):\n",
    "    return math.log(number)\n",
    "\n",
    "try:\n",
    "    number = float(input(\"Enter the number: \"))\n",
    "    if number<=0:\n",
    "        print(\"\\nPlease enter a positive integer.\")\n",
    "    else:\n",
    "        print(f\"\\nlog({number}) : {natural_log(number)}\")\n",
    "except Exception as e:\n",
    "    print(\"\\nSome exception has occurred: \",e)"
   ]
  },
  {
   "cell_type": "markdown",
   "id": "2c330a9f",
   "metadata": {},
   "source": [
    "# 5. Write a Python Program for cube sum of first n natural numbers?"
   ]
  },
  {
   "cell_type": "code",
   "execution_count": 26,
   "id": "63633c99",
   "metadata": {},
   "outputs": [
    {
     "name": "stdout",
     "output_type": "stream",
     "text": [
      "Enter the number to calculate sum of cubes of first natural numbers: 6\n",
      "\n",
      "Sum of cubes of first 6 natural numbers: 441\n"
     ]
    }
   ],
   "source": [
    "def sum_of_cubes(number):\n",
    "    try:\n",
    "        result = (number*(number+1)/2) ** 2\n",
    "        return int(result)\n",
    "    except Exception as e:\n",
    "        print(\"\\nSome exception has occurred: \",e)\n",
    "\n",
    "\n",
    "try:\n",
    "    number = int(input(\"Enter the number to calculate sum of cubes of first natural numbers: \"))\n",
    "    if number<=0:\n",
    "        print(\"\\nPlease enter a positive integer.\")\n",
    "    else:\n",
    "        print(f\"\\nSum of cubes of first {number} natural numbers: {sum_of_cubes(number)}\")\n",
    "except Exception as e:\n",
    "    print(\"\\nSome exception has occurred: \",e)"
   ]
  },
  {
   "cell_type": "code",
   "execution_count": null,
   "id": "184bcfb7",
   "metadata": {},
   "outputs": [],
   "source": []
  }
 ],
 "metadata": {
  "kernelspec": {
   "display_name": "Python 3",
   "language": "python",
   "name": "python3"
  },
  "language_info": {
   "codemirror_mode": {
    "name": "ipython",
    "version": 3
   },
   "file_extension": ".py",
   "mimetype": "text/x-python",
   "name": "python",
   "nbconvert_exporter": "python",
   "pygments_lexer": "ipython3",
   "version": "3.8.8"
  }
 },
 "nbformat": 4,
 "nbformat_minor": 5
}
