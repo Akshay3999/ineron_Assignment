{
 "cells": [
  {
   "cell_type": "code",
   "execution_count": 4,
   "id": "4d15ac6a",
   "metadata": {},
   "outputs": [
    {
     "name": "stdout",
     "output_type": "stream",
     "text": [
      "Hello python\n"
     ]
    }
   ],
   "source": [
    "# Q Write a python program to print \"Hello python\"?\n",
    "\n",
    "class xyz:\n",
    "    def function(self):\n",
    "        print(\"Hello python\")\n",
    "        \n",
    "a = xyz()\n",
    "a.function()"
   ]
  },
  {
   "cell_type": "code",
   "execution_count": 36,
   "id": "10517d9e",
   "metadata": {},
   "outputs": [
    {
     "name": "stdout",
     "output_type": "stream",
     "text": [
      "Enter first number\n",
      "5\n",
      "Enter second number\n",
      "5\n",
      "Addition operation 10.0\n"
     ]
    }
   ],
   "source": [
    "# Q. Write a Python program to do arithmetical operations addition and division.?\n",
    "\n",
    "# For addition operation\n",
    "\n",
    "num1 = float(input(\"Enter first number\\n\"))\n",
    "num2 = float(input(\"Enter second number\\n\"))\n",
    "\n",
    "\n",
    "Add = num1 + num2\n",
    "print(\"Addition operation\",Add)"
   ]
  },
  {
   "cell_type": "code",
   "execution_count": 34,
   "id": "61a91abe",
   "metadata": {},
   "outputs": [
    {
     "name": "stdout",
     "output_type": "stream",
     "text": [
      "Enter first number\n",
      " 10\n",
      "Enter second number\n",
      "2\n",
      "Division operation  5.0\n"
     ]
    }
   ],
   "source": [
    "# For Division operation\n",
    "\n",
    "Div1  = float(input(\"Enter first number\\n \"))\n",
    "Div2 = float(input(\"Enter second number\\n\"))\n",
    "\n",
    "Division = Div1/Div2\n",
    "print(\"Division operation \",Division)"
   ]
  },
  {
   "cell_type": "code",
   "execution_count": 8,
   "id": "be2162dd",
   "metadata": {},
   "outputs": [
    {
     "name": "stdout",
     "output_type": "stream",
     "text": [
      "Enter first side of triangle: 2\n",
      "Enter second side of triangle: 4\n",
      "Enter third side of triangle: 5\n",
      "The area of triangle is 3.799671038392666\n"
     ]
    }
   ],
   "source": [
    "#  Q. Write a Python program to find the area of a triangle?\n",
    "\n",
    "a = float(input(\"Enter first side of triangle: \"))\n",
    "b = float(input(\"Enter second side of triangle: \"))\n",
    "c = float(input(\"Enter third side of triangle: \"))\n",
    "\n",
    "s = (a + b + c)/2\n",
    "\n",
    "area = (s*(s-a)*(s-b)*(s-c))** 0.5\n",
    "\n",
    "print(\"The area of triangle is\",area)"
   ]
  },
  {
   "cell_type": "code",
   "execution_count": 13,
   "id": "1a62cfa3",
   "metadata": {},
   "outputs": [
    {
     "name": "stdout",
     "output_type": "stream",
     "text": [
      "Enter first no. 10\n",
      "Enter second no. 50\n",
      "Value of a: 50.0\n",
      "Value of a: 10.0\n"
     ]
    }
   ],
   "source": [
    "# Q Write a Python program to swap two variables?\n",
    "\n",
    "a = float(input(\"Enter first no. \"))\n",
    "b = float(input(\"Enter second no. \"))\n",
    "\n",
    "# Using third variable\n",
    "swap = a\n",
    "a = b\n",
    "b = swap\n",
    "\n",
    "print(\"Value of a:\", a)\n",
    "print(\"Value of a:\", b)"
   ]
  },
  {
   "cell_type": "code",
   "execution_count": 17,
   "id": "10a34b47",
   "metadata": {},
   "outputs": [
    {
     "name": "stdout",
     "output_type": "stream",
     "text": [
      "40\n"
     ]
    }
   ],
   "source": [
    "# Q. Write a Python program to generate a random number?\n",
    "\n",
    "import random\n",
    "\n",
    "x = random.randint(0,50)\n",
    "\n",
    "print(x)"
   ]
  }
 ],
 "metadata": {
  "kernelspec": {
   "display_name": "Python 3",
   "language": "python",
   "name": "python3"
  },
  "language_info": {
   "codemirror_mode": {
    "name": "ipython",
    "version": 3
   },
   "file_extension": ".py",
   "mimetype": "text/x-python",
   "name": "python",
   "nbconvert_exporter": "python",
   "pygments_lexer": "ipython3",
   "version": "3.8.8"
  }
 },
 "nbformat": 4,
 "nbformat_minor": 5
}
