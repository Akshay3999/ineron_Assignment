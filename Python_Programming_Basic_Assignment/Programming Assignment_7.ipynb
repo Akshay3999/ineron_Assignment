{
 "cells": [
  {
   "cell_type": "markdown",
   "id": "9d1965b9",
   "metadata": {},
   "source": [
    "# 1. Write a Python Program to find sum of array?"
   ]
  },
  {
   "cell_type": "code",
   "execution_count": 7,
   "id": "21e620da",
   "metadata": {},
   "outputs": [
    {
     "name": "stdout",
     "output_type": "stream",
     "text": [
      "Enter array element: 10 40 100 120\n",
      "Sum of the array is, 270\n"
     ]
    }
   ],
   "source": [
    "import array as arr\n",
    "\n",
    "lst = []\n",
    "\n",
    "try:\n",
    "    lst = list(map(int, input(\"Enter array element: \").split()))\n",
    "    \n",
    "except ValueError as err:\n",
    "        print(f\"{err}.please enter only positive integer\")\n",
    "        \n",
    "except:\n",
    "    print(\"There is  an the program. please troublshoot and try again\")\n",
    "    \n",
    "else:\n",
    "    arr_lst =arr.array('i',lst)\n",
    "    print(f\"Sum of the array is, {sum(arr_lst)}\")"
   ]
  },
  {
   "cell_type": "markdown",
   "id": "033be4e6",
   "metadata": {},
   "source": [
    "# 2. Write a Python Program to find largest element in an array?"
   ]
  },
  {
   "cell_type": "code",
   "execution_count": 9,
   "id": "f61080cd",
   "metadata": {},
   "outputs": [
    {
     "name": "stdout",
     "output_type": "stream",
     "text": [
      "Enter the size of array: 4\n",
      "Enter 1 element: 100\n",
      "Enter 2 element: 120\n",
      "Enter 3 element: 140\n",
      "Enter 4 element: 160\n",
      "\n",
      "Largest elements in [100, 120, 140, 160] : 160\n"
     ]
    }
   ],
   "source": [
    "def largest_in_array(arr):\n",
    "    try:\n",
    "        largest = arr[0]\n",
    "        for i in arr:\n",
    "            if i>largest:\n",
    "                largest = i\n",
    "        return largest\n",
    "    except Exception as e:\n",
    "        print(\"\\nSome exception has occurred: \",e)\n",
    "    \n",
    "\n",
    "try:\n",
    "    arr = []\n",
    "    size = int(input(\"Enter the size of array: \"))\n",
    "    \n",
    "    if size<=0:\n",
    "        print(\"\\nPlease enter a positive integer\")\n",
    "    else:\n",
    "        for i in range(size):\n",
    "            arr.append(int(input(f\"Enter {i+1} element: \")))\n",
    "\n",
    "        print(f\"\\nLargest elements in {arr} : {largest_in_array(arr)}\")\n",
    "except Exception as e:\n",
    "    print(\"\\nSome exception has occurred: \",e)"
   ]
  },
  {
   "cell_type": "markdown",
   "id": "470a2cb4",
   "metadata": {},
   "source": [
    "# 3. Write a Python Program for array rotation?"
   ]
  },
  {
   "cell_type": "code",
   "execution_count": 18,
   "id": "3989acfe",
   "metadata": {},
   "outputs": [
    {
     "name": "stdout",
     "output_type": "stream",
     "text": [
      "Enter array element: 100 90 80 70 60 50 40 30 20 10\n",
      "The reverse order of the given array is: \n",
      "10 20 30 40 50 60 70 80 90 100 "
     ]
    }
   ],
   "source": [
    "import array as a_rotation\n",
    "\n",
    "lst = []\n",
    "try:\n",
    "    lst = list(map(int,input(\"Enter array element: \").split()))\n",
    "    \n",
    "except ValueError as err:\n",
    "    print(f\"{err}.please enter only positive integer\")\n",
    "    \n",
    "except:\n",
    "    print(\"There is an issue in the program. please troubleshoot and try again\")\n",
    "    \n",
    "else:\n",
    "    a_rotation_lst = a_rotation.array('i',lst) #convert list into array\n",
    "    \n",
    "    print(\"The reverse order of the given array is: \")\n",
    "    for i in range(len(a_rotation_lst)-1, -1, -1):\n",
    "        print(a_rotation_lst[i], end=\" \")"
   ]
  },
  {
   "cell_type": "markdown",
   "id": "02b1b4d7",
   "metadata": {},
   "source": [
    "# 4.  Write a Python Program to Split the array and add the first part to the end?"
   ]
  },
  {
   "cell_type": "code",
   "execution_count": 38,
   "id": "9fe060ef",
   "metadata": {},
   "outputs": [
    {
     "name": "stdout",
     "output_type": "stream",
     "text": [
      "Enter array elemneta: 1 2 3 4 5\n",
      "Enter the position of array element to split: 3\n",
      "\n",
      "New array element after the splite: \n",
      "4 5 1 2 3 "
     ]
    }
   ],
   "source": [
    "import array as arr\n",
    "\n",
    "lst = []\n",
    "\n",
    "try:\n",
    "    lst = list(map(int,input(\"Enter array elemneta: \").split()))\n",
    "    pos = int(input(\"Enter the position of array element to split: \"))\n",
    "    \n",
    "except ValueError as err:\n",
    "        print(f\"{err}.please enter only position integer\")\n",
    "        \n",
    "except: \n",
    "    print(\"There is an issue in the program. please troubleshhoot and try again\")\n",
    "    \n",
    "else:\n",
    "    arr_lst = arr.array('i',lst)\n",
    "    \n",
    "    n = len(arr_lst)\n",
    "    arr_lst[:] = arr_lst[pos:n] + arr_lst[0:pos]\n",
    "    \n",
    "    # display the new array element\n",
    "    \n",
    "    print(\"\\nNew array element after the splite: \")\n",
    "    for i in range(0,n):\n",
    "        print(arr_lst[i], end = \" \")"
   ]
  },
  {
   "cell_type": "markdown",
   "id": "1a400916",
   "metadata": {},
   "source": [
    "# 5. Write a Python Program to check if given array is Monotonic?"
   ]
  },
  {
   "cell_type": "code",
   "execution_count": 41,
   "id": "78a01750",
   "metadata": {},
   "outputs": [
    {
     "name": "stdout",
     "output_type": "stream",
     "text": [
      "Enter the size of array: 5\n",
      "Enter 1 element: 9\n",
      "Enter 2 element: 7\n",
      "Enter 3 element: 5\n",
      "Enter 4 element: 3\n",
      "Enter 5 element: 1\n",
      "\n",
      "Array [9, 7, 5, 3, 1] is monotonic\n"
     ]
    }
   ],
   "source": [
    "def is_monotonic(arr):\n",
    "    return (all(arr[i]<=arr[i+1] for i in range(len(arr)-1)) or \n",
    "            all(arr[i]>=arr[i+1] for i in range(len(arr)-1)))\n",
    "\n",
    "\n",
    "try:\n",
    "    arr = []\n",
    "    size = int(input(\"Enter the size of array: \"))\n",
    "    \n",
    "    if size<=0:\n",
    "        print(\"\\nPlease enter a positive integer.\")\n",
    "    else:\n",
    "        for i in range(size):\n",
    "            arr.append(int(input(f\"Enter {i+1} element: \")))\n",
    "\n",
    "        result = is_monotonic(arr)\n",
    "        if result:\n",
    "            print(f\"\\nArray {arr} is monotonic\")\n",
    "        else:\n",
    "            print(f\"\\nArray {arr} is not monotonic\")\n",
    "except Exception as e:\n",
    "    print(\"\\nSome exception has occurred: \",e)"
   ]
  },
  {
   "cell_type": "code",
   "execution_count": null,
   "id": "3993b062",
   "metadata": {},
   "outputs": [],
   "source": []
  }
 ],
 "metadata": {
  "celltoolbar": "Raw Cell Format",
  "kernelspec": {
   "display_name": "Python 3",
   "language": "python",
   "name": "python3"
  },
  "language_info": {
   "codemirror_mode": {
    "name": "ipython",
    "version": 3
   },
   "file_extension": ".py",
   "mimetype": "text/x-python",
   "name": "python",
   "nbconvert_exporter": "python",
   "pygments_lexer": "ipython3",
   "version": "3.8.8"
  }
 },
 "nbformat": 4,
 "nbformat_minor": 5
}
